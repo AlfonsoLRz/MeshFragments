{
 "cells": [
  {
   "cell_type": "code",
   "execution_count": 22,
   "id": "initial_id",
   "metadata": {
    "collapsed": true,
    "ExecuteTime": {
     "end_time": "2024-02-04T19:09:18.276841Z",
     "start_time": "2024-02-04T19:09:18.214902800Z"
    }
   },
   "outputs": [],
   "source": [
    "import glob\n",
    "import mesh\n",
    "import numpy as np\n",
    "import trimesh"
   ]
  },
  {
   "cell_type": "code",
   "execution_count": 7,
   "outputs": [],
   "source": [
    "mesh_folder = '../../../Datasets/Vessel_02/'\n",
    "mesh_extension = '.obj'\n",
    "\n",
    "fragment_folder = '../../../Datasets/AL_05L'\n",
    "num_faces = 1000\n",
    "num_fragments = 10\n",
    "\n",
    "num_target_models = 20\n",
    "num_rows = 4\n",
    "num_cols = int(num_target_models // num_rows)"
   ],
   "metadata": {
    "collapsed": false,
    "ExecuteTime": {
     "end_time": "2024-02-04T18:21:33.152884700Z",
     "start_time": "2024-02-04T18:21:33.136885500Z"
    }
   },
   "id": "f0c69d2a391844ea"
  },
  {
   "cell_type": "code",
   "execution_count": 12,
   "outputs": [],
   "source": [
    "# Find path of meshes in mesh_folder with extension mesh_extension\n",
    "import os\n",
    "meshes = []\n",
    "for root, dirs, files in os.walk(mesh_folder):\n",
    "    for file in files:\n",
    "        if file.endswith(mesh_extension):\n",
    "            meshes.append(os.path.join(root, file))\n",
    "\n",
    "meshes = ['../../../Datasets/Vessel_02/AL_05L.obj' for mesh in meshes]\n",
    "meshes = np.array(meshes)\n",
    "meshes = meshes[np.random.choice(len(meshes), num_target_models, replace=False)]\n",
    "meshes = meshes[:num_target_models]\n",
    "meshes = meshes.reshape((num_rows, num_cols))"
   ],
   "metadata": {
    "collapsed": false,
    "ExecuteTime": {
     "end_time": "2024-02-04T19:04:53.374560600Z",
     "start_time": "2024-02-04T19:04:53.349557100Z"
    }
   },
   "id": "a88624652dc65df8"
  },
  {
   "cell_type": "code",
   "execution_count": 13,
   "outputs": [
    {
     "data": {
      "text/plain": "array([['../../../Datasets/Vessel_02/AL_05L.obj',\n        '../../../Datasets/Vessel_02/AL_05L.obj',\n        '../../../Datasets/Vessel_02/AL_05L.obj',\n        '../../../Datasets/Vessel_02/AL_05L.obj',\n        '../../../Datasets/Vessel_02/AL_05L.obj'],\n       ['../../../Datasets/Vessel_02/AL_05L.obj',\n        '../../../Datasets/Vessel_02/AL_05L.obj',\n        '../../../Datasets/Vessel_02/AL_05L.obj',\n        '../../../Datasets/Vessel_02/AL_05L.obj',\n        '../../../Datasets/Vessel_02/AL_05L.obj'],\n       ['../../../Datasets/Vessel_02/AL_05L.obj',\n        '../../../Datasets/Vessel_02/AL_05L.obj',\n        '../../../Datasets/Vessel_02/AL_05L.obj',\n        '../../../Datasets/Vessel_02/AL_05L.obj',\n        '../../../Datasets/Vessel_02/AL_05L.obj'],\n       ['../../../Datasets/Vessel_02/AL_05L.obj',\n        '../../../Datasets/Vessel_02/AL_05L.obj',\n        '../../../Datasets/Vessel_02/AL_05L.obj',\n        '../../../Datasets/Vessel_02/AL_05L.obj',\n        '../../../Datasets/Vessel_02/AL_05L.obj']], dtype='<U38')"
     },
     "execution_count": 13,
     "metadata": {},
     "output_type": "execute_result"
    }
   ],
   "source": [
    "meshes"
   ],
   "metadata": {
    "collapsed": false,
    "ExecuteTime": {
     "end_time": "2024-02-04T19:04:55.739704600Z",
     "start_time": "2024-02-04T19:04:55.724643600Z"
    }
   },
   "id": "e748aabf3069053"
  },
  {
   "cell_type": "code",
   "execution_count": 31,
   "outputs": [
    {
     "name": "stdout",
     "output_type": "stream",
     "text": [
      "../../../Datasets/AL_05L/AL_05L_10f_4it_*_1000.stl\n",
      "10\n",
      "../../../Datasets/AL_05L/AL_05L_10f_2it_*_1000.stl\n",
      "10\n",
      "../../../Datasets/AL_05L/AL_05L_10f_1it_*_1000.stl\n",
      "10\n",
      "../../../Datasets/AL_05L/AL_05L_10f_4it_*_1000.stl\n",
      "10\n",
      "../../../Datasets/AL_05L/AL_05L_10f_1it_*_1000.stl\n",
      "10\n",
      "../../../Datasets/AL_05L/AL_05L_10f_4it_*_1000.stl\n",
      "10\n",
      "../../../Datasets/AL_05L/AL_05L_10f_4it_*_1000.stl\n",
      "10\n",
      "../../../Datasets/AL_05L/AL_05L_10f_4it_*_1000.stl\n",
      "10\n",
      "../../../Datasets/AL_05L/AL_05L_10f_0it_*_1000.stl\n",
      "10\n",
      "../../../Datasets/AL_05L/AL_05L_10f_1it_*_1000.stl\n",
      "10\n",
      "../../../Datasets/AL_05L/AL_05L_10f_3it_*_1000.stl\n",
      "10\n",
      "../../../Datasets/AL_05L/AL_05L_10f_0it_*_1000.stl\n",
      "10\n",
      "../../../Datasets/AL_05L/AL_05L_10f_3it_*_1000.stl\n",
      "10\n",
      "../../../Datasets/AL_05L/AL_05L_10f_2it_*_1000.stl\n",
      "10\n",
      "../../../Datasets/AL_05L/AL_05L_10f_4it_*_1000.stl\n",
      "10\n",
      "../../../Datasets/AL_05L/AL_05L_10f_1it_*_1000.stl\n",
      "10\n",
      "../../../Datasets/AL_05L/AL_05L_10f_0it_*_1000.stl\n",
      "10\n",
      "../../../Datasets/AL_05L/AL_05L_10f_3it_*_1000.stl\n",
      "10\n",
      "../../../Datasets/AL_05L/AL_05L_10f_3it_*_1000.stl\n",
      "10\n",
      "../../../Datasets/AL_05L/AL_05L_10f_4it_*_1000.stl\n",
      "10\n"
     ]
    }
   ],
   "source": [
    "for row in range(num_rows):\n",
    "    for col in range(num_cols):\n",
    "        mesh = meshes[row, col]\n",
    "        random_iteration = np.random.choice(5)\n",
    "        target_pattern = fragment_folder + '/' + mesh.split('/')[-1].split('.')[0] + '_' + str(num_fragments) + 'f_' + str(random_iteration) + 'it_*_' + str(num_faces) + '.stl'\n",
    "        fragments = glob.glob(target_pattern)\n",
    "        \n",
    "        main_mesh = mesh.Mesh(mesh)\n",
    "        for fragment in fragments:\n",
    "            fragment_mesh = mesh.Mesh(fragment)\n",
    "            main_mesh.add_fragment(fragment_mesh)"
   ],
   "metadata": {
    "collapsed": false,
    "ExecuteTime": {
     "end_time": "2024-02-04T19:10:19.429050Z",
     "start_time": "2024-02-04T19:10:19.392045600Z"
    }
   },
   "id": "3dd47dca362b662e"
  },
  {
   "cell_type": "code",
   "execution_count": null,
   "outputs": [],
   "source": [],
   "metadata": {
    "collapsed": false
   },
   "id": "f4187a216cd437b8"
  }
 ],
 "metadata": {
  "kernelspec": {
   "display_name": "Python 3",
   "language": "python",
   "name": "python3"
  },
  "language_info": {
   "codemirror_mode": {
    "name": "ipython",
    "version": 2
   },
   "file_extension": ".py",
   "mimetype": "text/x-python",
   "name": "python",
   "nbconvert_exporter": "python",
   "pygments_lexer": "ipython2",
   "version": "2.7.6"
  }
 },
 "nbformat": 4,
 "nbformat_minor": 5
}
