{
 "cells": [
  {
   "cell_type": "code",
   "execution_count": 2,
   "id": "initial_id",
   "metadata": {
    "collapsed": true,
    "ExecuteTime": {
     "end_time": "2024-07-15T20:06:32.779282500Z",
     "start_time": "2024-07-15T20:06:30.987292700Z"
    }
   },
   "outputs": [],
   "source": [
    "from convexness.convexness import *\n",
    "import glob\n",
    "import os\n",
    "import pandas as pd\n",
    "from tqdm import tqdm"
   ]
  },
  {
   "cell_type": "code",
   "execution_count": null,
   "outputs": [],
   "source": [
    "folder = 'D:/allopezr/Fragments/vessels_200_obj_ply_no_zipped/vessels_200_obj_ply/'\n",
    "target_extension = '.obj'\n",
    "metadata_pattern = '*_mesh.txt'"
   ],
   "metadata": {
    "collapsed": false
   },
   "id": "673e605c583537e"
  },
  {
   "cell_type": "code",
   "execution_count": null,
   "outputs": [],
   "source": [
    "# recursive search\n",
    "path = folder + '*/' + metadata_pattern\n",
    "mesh_files = glob.glob(folder + '*/' + metadata_pattern, recursive=True)"
   ],
   "metadata": {
    "collapsed": false
   },
   "id": "427517f788e494e1"
  },
  {
   "cell_type": "code",
   "execution_count": null,
   "outputs": [],
   "source": [
    "mesh_files"
   ],
   "metadata": {
    "collapsed": false
   },
   "id": "4565ded8bce60853"
  },
  {
   "cell_type": "code",
   "execution_count": null,
   "outputs": [],
   "source": [
    "global_df = None\n",
    "\n",
    "for metadata_file in tqdm(mesh_files):\n",
    "    df = pd.read_csv(metadata_file, sep='\\t', header=0, index_col=False)\n",
    "    \n",
    "    # maintain only a subset of the columns\n",
    "    df = df[['Filename', 'Percentage', 'Vertices', 'Faces']]\n",
    "    if global_df is None:\n",
    "        global_df = df\n",
    "    else:\n",
    "        global_df = pd.concat([global_df, df], ignore_index=True)"
   ],
   "metadata": {
    "collapsed": false
   },
   "id": "33596ce6bf968b59"
  },
  {
   "cell_type": "code",
   "execution_count": null,
   "outputs": [],
   "source": [
    "# create a new column with the number of fragments\n",
    "global_df['Fragments'] = global_df['Filename'].apply(lambda x: int(x.split('f_')[0].split('_')[-1]))"
   ],
   "metadata": {
    "collapsed": false
   },
   "id": "2ef75957ca934ff6"
  },
  {
   "cell_type": "code",
   "execution_count": null,
   "outputs": [],
   "source": [
    "# select 1000 random samples from fragments with 4 or less fragments\n",
    "global_df = global_df[global_df['Fragments'] <= 4]\n",
    "global_df = global_df.sample(n=10)"
   ],
   "metadata": {
    "collapsed": false
   },
   "id": "2561a3def5bf3ad5"
  },
  {
   "cell_type": "code",
   "execution_count": null,
   "outputs": [],
   "source": [
    "global_df"
   ],
   "metadata": {
    "collapsed": false
   },
   "id": "6af54cf745b15e3"
  },
  {
   "cell_type": "code",
   "execution_count": null,
   "outputs": [],
   "source": [],
   "metadata": {
    "collapsed": false
   },
   "id": "327d6b6f86d5556c"
  },
  {
   "cell_type": "code",
   "execution_count": null,
   "outputs": [],
   "source": [],
   "metadata": {
    "collapsed": false
   },
   "id": "79d44df0bdc41b67"
  },
  {
   "cell_type": "code",
   "execution_count": 33,
   "outputs": [
    {
     "name": "stderr",
     "output_type": "stream",
     "text": [
      "  0%|          | 0/2 [00:00<?, ?it/s]\n",
      "  0%|          | 0/200 [00:00<?, ?it/s]\u001B[A\n",
      "  8%|▊         | 15/200 [00:00<00:01, 149.69it/s]\u001B[A\n",
      " 15%|█▌        | 30/200 [00:00<00:01, 128.81it/s]\u001B[A\n",
      " 22%|██▏       | 44/200 [00:00<00:01, 115.30it/s]\u001B[A\n",
      " 28%|██▊       | 56/200 [00:00<00:01, 115.64it/s]\u001B[A\n",
      " 34%|███▍      | 68/200 [00:00<00:01, 109.11it/s]\u001B[A\n",
      " 40%|████      | 80/200 [00:00<00:01, 103.47it/s]\u001B[A\n",
      " 46%|████▌     | 91/200 [00:00<00:01, 103.51it/s]\u001B[A\n",
      " 51%|█████     | 102/200 [00:00<00:01, 93.17it/s]\u001B[A\n",
      " 56%|█████▌    | 112/200 [00:01<00:01, 81.81it/s]\u001B[A\n",
      " 60%|██████    | 121/200 [00:01<00:00, 81.43it/s]\u001B[A\n",
      " 65%|██████▌   | 130/200 [00:01<00:00, 80.08it/s]\u001B[A\n",
      " 70%|██████▉   | 139/200 [00:01<00:00, 78.45it/s]\u001B[A\n",
      " 74%|███████▎  | 147/200 [00:01<00:00, 75.71it/s]\u001B[A\n",
      " 78%|███████▊  | 155/200 [00:01<00:00, 72.11it/s]\u001B[A\n",
      " 82%|████████▏ | 163/200 [00:01<00:00, 71.20it/s]\u001B[A\n",
      " 86%|████████▌ | 171/200 [00:01<00:00, 66.83it/s]\u001B[A\n",
      " 89%|████████▉ | 178/200 [00:02<00:00, 65.97it/s]\u001B[A\n",
      " 93%|█████████▎| 186/200 [00:02<00:00, 67.62it/s]\u001B[A\n",
      " 96%|█████████▋| 193/200 [00:02<00:00, 65.68it/s]\u001B[A\n",
      "100%|██████████| 200/200 [00:02<00:00, 81.72it/s]\u001B[A\n",
      " 50%|█████     | 1/2 [2:48:49<2:48:49, 10129.39s/it]\n",
      "  0%|          | 0/200 [00:00<?, ?it/s]\u001B[A\n",
      "  2%|▏         | 4/200 [00:00<00:06, 31.14it/s]\u001B[A\n",
      "  4%|▍         | 8/200 [00:00<00:06, 30.61it/s]\u001B[A\n",
      "  6%|▌         | 12/200 [00:00<00:06, 28.13it/s]\u001B[A\n",
      "  8%|▊         | 15/200 [00:00<00:06, 28.37it/s]\u001B[A\n",
      "  9%|▉         | 18/200 [00:00<00:06, 27.74it/s]\u001B[A\n",
      " 10%|█         | 21/200 [00:00<00:06, 27.63it/s]\u001B[A\n",
      " 12%|█▏        | 24/200 [00:00<00:06, 27.68it/s]\u001B[A\n",
      " 14%|█▎        | 27/200 [00:00<00:06, 26.85it/s]\u001B[A\n",
      " 16%|█▌        | 31/200 [00:01<00:05, 29.54it/s]\u001B[A\n",
      " 18%|█▊        | 35/200 [00:01<00:05, 31.38it/s]\u001B[A\n",
      " 20%|█▉        | 39/200 [00:01<00:05, 30.43it/s]\u001B[A\n",
      " 22%|██▏       | 43/200 [00:01<00:05, 29.99it/s]\u001B[A\n",
      " 24%|██▎       | 47/200 [00:01<00:05, 29.68it/s]\u001B[A\n",
      " 25%|██▌       | 50/200 [00:01<00:05, 28.92it/s]\u001B[A\n",
      " 27%|██▋       | 54/200 [00:01<00:04, 31.48it/s]\u001B[A\n",
      " 29%|██▉       | 58/200 [00:01<00:04, 30.99it/s]\u001B[A\n",
      " 31%|███       | 62/200 [00:02<00:04, 28.73it/s]\u001B[A\n",
      " 32%|███▎      | 65/200 [00:02<00:04, 27.86it/s]\u001B[A\n",
      " 34%|███▍      | 68/200 [00:02<00:04, 26.78it/s]\u001B[A\n",
      " 36%|███▌      | 72/200 [00:02<00:04, 28.79it/s]\u001B[A\n",
      " 38%|███▊      | 75/200 [00:02<00:04, 28.57it/s]\u001B[A\n",
      " 39%|███▉      | 78/200 [00:02<00:04, 28.48it/s]\u001B[A\n",
      " 40%|████      | 81/200 [00:02<00:04, 28.02it/s]\u001B[A\n",
      " 42%|████▏     | 84/200 [00:02<00:04, 28.04it/s]\u001B[A\n",
      " 44%|████▎     | 87/200 [00:03<00:04, 27.66it/s]\u001B[A\n",
      " 45%|████▌     | 90/200 [00:03<00:04, 26.27it/s]\u001B[A\n",
      " 46%|████▋     | 93/200 [00:03<00:04, 25.11it/s]\u001B[A\n",
      " 48%|████▊     | 96/200 [00:03<00:04, 25.58it/s]\u001B[A\n",
      " 50%|████▉     | 99/200 [00:03<00:03, 25.34it/s]\u001B[A\n",
      " 51%|█████     | 102/200 [00:03<00:03, 25.58it/s]\u001B[A\n",
      " 52%|█████▎    | 105/200 [00:03<00:03, 25.57it/s]\u001B[A\n",
      " 55%|█████▍    | 109/200 [00:03<00:03, 28.00it/s]\u001B[A\n",
      " 56%|█████▌    | 112/200 [00:03<00:03, 27.70it/s]\u001B[A\n",
      " 57%|█████▊    | 115/200 [00:04<00:03, 27.47it/s]\u001B[A\n",
      " 59%|█████▉    | 118/200 [00:04<00:03, 27.07it/s]\u001B[A\n",
      " 60%|██████    | 121/200 [00:04<00:02, 26.71it/s]\u001B[A\n",
      " 62%|██████▏   | 124/200 [00:04<00:02, 26.53it/s]\u001B[A\n",
      " 64%|██████▎   | 127/200 [00:04<00:02, 26.67it/s]\u001B[A\n",
      " 65%|██████▌   | 130/200 [00:04<00:02, 26.35it/s]\u001B[A\n",
      " 66%|██████▋   | 133/200 [00:04<00:02, 25.30it/s]\u001B[A\n",
      " 68%|██████▊   | 136/200 [00:04<00:02, 25.38it/s]\u001B[A\n",
      " 70%|██████▉   | 139/200 [00:05<00:02, 25.99it/s]\u001B[A\n",
      " 71%|███████   | 142/200 [00:05<00:02, 26.36it/s]\u001B[A\n",
      " 72%|███████▎  | 145/200 [00:05<00:02, 26.72it/s]\u001B[A\n",
      " 74%|███████▍  | 149/200 [00:05<00:01, 28.75it/s]\u001B[A\n",
      " 76%|███████▌  | 152/200 [00:05<00:01, 28.17it/s]\u001B[A\n",
      " 78%|███████▊  | 155/200 [00:05<00:01, 25.87it/s]\u001B[A\n",
      " 79%|███████▉  | 158/200 [00:05<00:01, 25.97it/s]\u001B[A\n",
      " 80%|████████  | 161/200 [00:05<00:01, 25.60it/s]\u001B[A\n",
      " 82%|████████▏ | 164/200 [00:05<00:01, 25.95it/s]\u001B[A\n",
      " 84%|████████▎ | 167/200 [00:06<00:01, 25.77it/s]\u001B[A\n",
      " 85%|████████▌ | 170/200 [00:06<00:01, 26.05it/s]\u001B[A\n",
      " 86%|████████▋ | 173/200 [00:06<00:01, 25.56it/s]\u001B[A\n",
      " 88%|████████▊ | 176/200 [00:06<00:00, 25.03it/s]\u001B[A\n",
      " 90%|████████▉ | 179/200 [00:06<00:00, 24.73it/s]\u001B[A\n",
      " 91%|█████████ | 182/200 [00:06<00:00, 25.84it/s]\u001B[A\n",
      " 92%|█████████▎| 185/200 [00:06<00:00, 24.99it/s]\u001B[A\n",
      " 94%|█████████▍| 188/200 [00:06<00:00, 24.87it/s]\u001B[A\n",
      " 96%|█████████▌| 191/200 [00:07<00:00, 25.29it/s]\u001B[A\n",
      " 97%|█████████▋| 194/200 [00:07<00:00, 25.37it/s]\u001B[A\n",
      " 98%|█████████▊| 197/200 [00:07<00:00, 25.58it/s]\u001B[A\n",
      "100%|██████████| 200/200 [00:07<00:00, 27.00it/s]\u001B[A\n",
      "100%|██████████| 2/2 [5:35:43<00:00, 10071.52s/it]  \n"
     ]
    }
   ],
   "source": [
    "folders = ['D:/allopezr/Fragments/Vessels_200_Voronoi/', 'D:/allopezr/Fragments/vessels_200_obj_ply_no_zipped/vessels_200_obj_ply/']\n",
    "target_extension = '.obj'\n",
    "metadata_pattern = '*_mesh.txt'\n",
    "\n",
    "results = []\n",
    "\n",
    "for folder in tqdm(folders):\n",
    "    # recursive search\n",
    "    path = folder + '*/' + metadata_pattern\n",
    "    mesh_files = glob.glob(folder + '*/' + metadata_pattern, recursive=True)\n",
    "    \n",
    "    #\n",
    "    global_df = None\n",
    "    \n",
    "    for metadata_file in tqdm(mesh_files):\n",
    "        df = pd.read_csv(metadata_file, sep='\\t', header=0, index_col=False)\n",
    "        \n",
    "        # maintain only a subset of the columns\n",
    "        df = df[['Filename', 'Percentage', 'Vertices', 'Faces']]\n",
    "        if global_df is None:\n",
    "            global_df = df\n",
    "        else:\n",
    "            global_df = pd.concat([global_df, df], ignore_index=True)\n",
    "            \n",
    "    # create a new column with the number of fragments\n",
    "    global_df['Fragments'] = global_df['Filename'].apply(lambda x: int(x.split('f_')[0].split('_')[-1]))\n",
    "    # select 1000 random samples from fragments with 4 or less fragments\n",
    "    global_df = global_df[global_df['Fragments'] <= 6]\n",
    "    global_df = global_df.sample(n=1000)\n",
    "\n",
    "    # iterate to calculate the convexness\n",
    "    for index, row in global_df.iterrows():\n",
    "        filename = row['Filename']\n",
    "        fragments = row['Fragments']\n",
    "        percentage = row['Percentage']\n",
    "        vertices = row['Vertices']\n",
    "        faces = row['Faces']\n",
    "        \n",
    "        # swap path\n",
    "        filename = filename.replace('E:/Fragments/', 'D:/allopezr/Fragments/vessels_200_obj_ply_no_zipped/')\n",
    "        \n",
    "        mesh = trimesh.load_mesh(filename)\n",
    "        # normalize the mesh\n",
    "        mesh.vertices -= mesh.vertices.mean(axis=0)\n",
    "        mesh.vertices /= np.abs(mesh.vertices).max()\n",
    "        \n",
    "        convexness = measure_convexness(mesh, 100, 1)\n",
    "        global_df.loc[index, 'Convexness'] = convexness\n",
    "        \n",
    "    results.append(global_df[['Fragments', 'Convexness']])"
   ],
   "metadata": {
    "collapsed": false,
    "ExecuteTime": {
     "end_time": "2024-07-16T02:07:25.582132900Z",
     "start_time": "2024-07-15T20:31:42.528287100Z"
    }
   },
   "id": "643b87a409524655"
  },
  {
   "cell_type": "code",
   "execution_count": 34,
   "outputs": [
    {
     "data": {
      "text/plain": "[        Fragments  Convexness\n 55389           3    0.107475\n 70452           5    0.238990\n 154153          2    0.339798\n 146376          4    0.148283\n 8024            4    0.210101\n ...           ...         ...\n 161265          5    0.152323\n 117983          6    0.497576\n 31787           4    0.108687\n 46610           4    0.214343\n 79318           5    0.371111\n \n [1000 rows x 2 columns],\n         Fragments  Convexness\n 43724           5    0.352525\n 22102           6    0.391919\n 37885           6    0.519798\n 155384          5    0.195152\n 148457          5    0.224242\n ...           ...         ...\n 110666          2    0.121818\n 87073           4    0.305657\n 162454          6    0.205051\n 159475          6    0.305455\n 106850          4    0.104646\n \n [1000 rows x 2 columns]]"
     },
     "execution_count": 34,
     "metadata": {},
     "output_type": "execute_result"
    }
   ],
   "source": [
    "results"
   ],
   "metadata": {
    "collapsed": false,
    "ExecuteTime": {
     "end_time": "2024-07-16T15:57:14.302298900Z",
     "start_time": "2024-07-16T15:57:14.270236900Z"
    }
   },
   "id": "e23cbb68e9727036"
  },
  {
   "cell_type": "code",
   "execution_count": 35,
   "outputs": [],
   "source": [
    "# Change matplotlib style\n",
    "plt.style.use('default')\n",
    "\n",
    "font_mapping = {'family': 'Adobe Devanagari', 'weight': 'normal', 'size': 17}\n",
    "plt.rc('font', **font_mapping)"
   ],
   "metadata": {
    "collapsed": false,
    "ExecuteTime": {
     "end_time": "2024-07-16T15:57:15.731641700Z",
     "start_time": "2024-07-16T15:57:15.721629200Z"
    }
   },
   "id": "27bec2c82bb3610e"
  },
  {
   "cell_type": "code",
   "execution_count": 45,
   "outputs": [
    {
     "data": {
      "text/plain": "<Figure size 800x500 with 1 Axes>",
      "image/png": "[encoded data removed]"
     },
     "metadata": {},
     "output_type": "display_data"
    }
   ],
   "source": [
    "# render the results\n",
    "import matplotlib.pyplot as plt\n",
    "\n",
    "legends = ['Voronoi', 'Our work']\n",
    "\n",
    "plt.figure(figsize=(8, 5))\n",
    "\n",
    "for df, legend in zip(results, legends):\n",
    "    plt.scatter(df['Convexness'], df['Fragments'], s=1, label=legend)\n",
    "\n",
    "for df in results:\n",
    "    # interpolate the data\n",
    "    x = df['Fragments']\n",
    "    y = df['Convexness']\n",
    "    z = np.polyfit(x, y, 1)\n",
    "    p = np.poly1d(z)\n",
    "    plt.plot(p(x), x, '--')\n",
    "\n",
    "plt.legend(frameon=False, loc='upper center', bbox_to_anchor=(0.5, 1.15), ncol=2)\n",
    "plt.xlabel('Fragments')\n",
    "plt.ylabel('Convexness')\n",
    "# x ticks as int\n",
    "# plt.xticks(np.arange(2, 6, 1))\n",
    "plt.tight_layout()\n",
    "plt.show()"
   ],
   "metadata": {
    "collapsed": false,
    "ExecuteTime": {
     "end_time": "2024-07-16T16:07:17.822331900Z",
     "start_time": "2024-07-16T16:07:17.570438300Z"
    }
   },
   "id": "2b3bfa45f67016ff"
  },
  {
   "cell_type": "code",
   "execution_count": 43,
   "outputs": [
    {
     "name": "stdout",
     "output_type": "stream",
     "text": [
      "0.25    0.151515\n",
      "0.50    0.235455\n",
      "0.75    0.359596\n",
      "Name: Convexness, dtype: float64\n",
      "0.25    0.147020\n",
      "0.50    0.250606\n",
      "0.75    0.374040\n",
      "Name: Convexness, dtype: float64\n"
     ]
    }
   ],
   "source": [
    "# percentil 75, 50, 25\n",
    "for df in results:\n",
    "    print(df['Convexness'].quantile([0.25, 0.5, 0.75]))"
   ],
   "metadata": {
    "collapsed": false,
    "ExecuteTime": {
     "end_time": "2024-07-16T16:03:10.716875500Z",
     "start_time": "2024-07-16T16:03:10.612065300Z"
    }
   },
   "id": "526db6bcebab3d0d"
  },
  {
   "cell_type": "code",
   "execution_count": null,
   "outputs": [],
   "source": [],
   "metadata": {
    "collapsed": false
   },
   "id": "8859e731e9b37a53"
  }
 ],
 "metadata": {
  "kernelspec": {
   "display_name": "Python 3",
   "language": "python",
   "name": "python3"
  },
  "language_info": {
   "codemirror_mode": {
    "name": "ipython",
    "version": 2
   },
   "file_extension": ".py",
   "mimetype": "text/x-python",
   "name": "python",
   "nbconvert_exporter": "python",
   "pygments_lexer": "ipython2",
   "version": "2.7.6"
  }
 },
 "nbformat": 4,
 "nbformat_minor": 5
}
