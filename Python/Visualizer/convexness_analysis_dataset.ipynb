{
 "cells": [
  {
   "cell_type": "code",
   "id": "initial_id",
   "metadata": {
    "collapsed": true,
    "ExecuteTime": {
     "end_time": "2024-07-20T10:16:41.264216Z",
     "start_time": "2024-07-20T10:16:38.951726Z"
    }
   },
   "source": [
    "from convexness.convexness import *\n",
    "import glob\n",
    "import os\n",
    "import open3d as o3d\n",
    "import pandas as pd\n",
    "from tqdm import tqdm"
   ],
   "outputs": [
    {
     "name": "stdout",
     "output_type": "stream",
     "text": [
      "Jupyter environment detected. Enabling Open3D WebVisualizer.\n",
      "[Open3D INFO] WebRTC GUI backend enabled.\n",
      "[Open3D INFO] WebRTCWindowSystem: HTTP handshake server disabled.\n"
     ]
    }
   ],
   "execution_count": 1
  },
  {
   "metadata": {
    "ExecuteTime": {
     "end_time": "2024-07-20T10:16:41.279294Z",
     "start_time": "2024-07-20T10:16:41.266214Z"
    }
   },
   "cell_type": "code",
   "source": "n_random_samples = 1",
   "id": "531f7b59f040580c",
   "outputs": [],
   "execution_count": 2
  },
  {
   "cell_type": "code",
   "source": [
    "def process_our_folder(folder):\n",
    "    target_extension = '.obj'\n",
    "    metadata_pattern = '*_mesh.txt'\n",
    "    path = folder + '*/' + metadata_pattern\n",
    "    mesh_files = glob.glob(folder + '*/' + metadata_pattern, recursive=True)\n",
    "    \n",
    "    #\n",
    "    global_df = None\n",
    "    \n",
    "    for metadata_file in tqdm(mesh_files):\n",
    "        df = pd.read_csv(metadata_file, sep='\\t', header=0, index_col=False)\n",
    "        \n",
    "        # maintain only a subset of the columns\n",
    "        df = df[['Filename', 'Percentage', 'Vertices', 'Faces']]\n",
    "        if global_df is None:\n",
    "            global_df = df\n",
    "        else:\n",
    "            global_df = pd.concat([global_df, df], ignore_index=True)\n",
    "            \n",
    "    # create a new column with the number of fragments\n",
    "    global_df['Fragments'] = global_df['Filename'].apply(lambda x: int(x.split('f_')[0].split('_')[-1]))\n",
    "    # select 1000 random samples from fragments with 4 or less fragments\n",
    "    global_df = global_df[global_df['Fragments'] <= 10]\n",
    "    global_df = global_df.sample(n=n_random_samples)\n",
    "\n",
    "    # iterate to calculate the convexness\n",
    "    for index, row in global_df.iterrows():\n",
    "        filename = row['Filename']\n",
    "        filename = filename.replace('E:/Fragments/', 'C:/Users/PC-157/Documents/Datasets/')\n",
    "        \n",
    "        mesh = trimesh.load_mesh(filename)\n",
    "        # normalize the mesh\n",
    "        mesh.vertices -= mesh.vertices.mean(axis=0)\n",
    "        mesh.vertices /= np.abs(mesh.vertices).max()\n",
    "        \n",
    "        convexness = measure_convexness(mesh, 100, 1)\n",
    "        global_df.loc[index, 'Convexness'] = convexness\n",
    "        \n",
    "    return global_df"
   ],
   "metadata": {
    "collapsed": false,
    "ExecuteTime": {
     "end_time": "2024-07-20T10:16:41.295361Z",
     "start_time": "2024-07-20T10:16:41.280294Z"
    }
   },
   "id": "79d44df0bdc41b67",
   "outputs": [],
   "execution_count": 3
  },
  {
   "metadata": {
    "ExecuteTime": {
     "end_time": "2024-07-20T10:16:41.310447Z",
     "start_time": "2024-07-20T10:16:41.296363Z"
    }
   },
   "cell_type": "code",
   "source": [
    "def process_voronoi_folder(folder):\n",
    "    target_extension = '.obj'\n",
    "    files = glob.glob(folder + '*/*' + target_extension, recursive=True)\n",
    "    # random sample\n",
    "    random_indices = np.random.choice(len(files), n_random_samples, replace=False)\n",
    "    files = [files[i] for i in random_indices]\n",
    "    \n",
    "    global_df = pd.DataFrame(columns=['Filename', 'Fragments'])  \n",
    "    for file in tqdm(files):\n",
    "        file_name = os.path.basename(file)\n",
    "        fragments = int(file_name.split('_')[0])\n",
    "        global_df = pd.concat([global_df, pd.DataFrame({'Filename': [file], 'Fragments': [fragments]})], ignore_index=True)\n",
    "        \n",
    "        # read the mesh \n",
    "        mesh = trimesh.load_mesh(file)\n",
    "        # normalize the mesh\n",
    "        mesh.vertices -= mesh.vertices.mean(axis=0)\n",
    "        mesh.vertices /= np.abs(mesh.vertices).max()\n",
    "        \n",
    "        convexness = measure_convexness(mesh, 100, 1)\n",
    "        global_df.loc[global_df['Filename'] == file, 'Convexness'] = convexness\n",
    "        \n",
    "    return global_df"
   ],
   "id": "c6fc2859a0908f3a",
   "outputs": [],
   "execution_count": 4
  },
  {
   "cell_type": "code",
   "source": [
    "#folders = ['D:/allopezr/Fragments/Vessels_200_Voronoi/', 'D:/allopezr/Fragments/vessels_200_obj_ply_no_zipped/vessels_200_obj_ply/']\n",
    "\n",
    "folders = ['C:/Users/PC-157/Documents/Datasets/Vessels_200_CellFracture/', 'C:/Users/PC-157/Documents/Datasets/vessels_200_obj_ply/']\n",
    "\n",
    "results = []\n",
    "\n",
    "for folder in tqdm(folders):\n",
    "    if 'CellFracture' in folder:\n",
    "        global_df = process_voronoi_folder(folder)\n",
    "    else:\n",
    "        global_df = process_our_folder(folder)      \n",
    "    results.append(global_df[['Fragments', 'Convexness']])"
   ],
   "metadata": {
    "collapsed": false,
    "ExecuteTime": {
     "end_time": "2024-07-20T10:17:00.848300Z",
     "start_time": "2024-07-20T10:16:41.312449Z"
    }
   },
   "id": "643b87a409524655",
   "outputs": [
    {
     "name": "stderr",
     "output_type": "stream",
     "text": [
      "  0%|          | 0/2 [00:00<?, ?it/s]\n",
      "  0%|          | 0/1 [00:00<?, ?it/s]\u001B[A\n",
      "100%|██████████| 1/1 [00:09<00:00,  9.60s/it]\u001B[A\n",
      " 50%|█████     | 1/2 [00:09<00:09,  9.73s/it]\n",
      "  0%|          | 0/200 [00:00<?, ?it/s]\u001B[A\n",
      " 16%|█▌        | 31/200 [00:00<00:00, 304.65it/s]\u001B[A\n",
      " 31%|███       | 62/200 [00:00<00:00, 270.06it/s]\u001B[A\n",
      " 45%|████▌     | 90/200 [00:00<00:00, 251.87it/s]\u001B[A\n",
      " 58%|█████▊    | 116/200 [00:00<00:00, 228.71it/s]\u001B[A\n",
      " 70%|███████   | 140/200 [00:00<00:00, 202.39it/s]\u001B[A\n",
      " 80%|████████  | 161/200 [00:00<00:00, 189.07it/s]\u001B[A\n",
      " 90%|█████████ | 181/200 [00:00<00:00, 173.14it/s]\u001B[A\n",
      "100%|██████████| 200/200 [00:01<00:00, 191.67it/s]\u001B[A\n",
      "100%|██████████| 2/2 [00:19<00:00,  9.76s/it]\n"
     ]
    }
   ],
   "execution_count": 5
  },
  {
   "cell_type": "code",
   "source": [
    "results"
   ],
   "metadata": {
    "collapsed": false,
    "ExecuteTime": {
     "end_time": "2024-07-20T10:17:00.865946Z",
     "start_time": "2024-07-20T10:17:00.850203Z"
    }
   },
   "id": "e23cbb68e9727036",
   "outputs": [
    {
     "data": {
      "text/plain": [
       "[  Fragments  Convexness\n",
       " 0         9    0.776765,\n",
       "         Fragments  Convexness\n",
       " 175625          9    0.361818]"
      ]
     },
     "execution_count": 6,
     "metadata": {},
     "output_type": "execute_result"
    }
   ],
   "execution_count": 6
  },
  {
   "cell_type": "code",
   "source": [
    "import matplotlib.pyplot as plt\n",
    "\n",
    "# Change matplotlib style\n",
    "plt.style.use('default')\n",
    "\n",
    "font_mapping = {'family': 'Adobe Devanagari', 'weight': 'normal', 'size': 17}\n",
    "plt.rc('font', **font_mapping)"
   ],
   "metadata": {
    "collapsed": false,
    "ExecuteTime": {
     "end_time": "2024-07-20T10:18:58.795021Z",
     "start_time": "2024-07-20T10:18:58.779395Z"
    }
   },
   "id": "27bec2c82bb3610e",
   "outputs": [],
   "execution_count": 9
  },
  {
   "cell_type": "code",
   "source": [
    "# render the results\n",
    "import matplotlib.pyplot as plt\n",
    "\n",
    "legends = ['Voronoi', 'Our work']\n",
    "\n",
    "plt.figure(figsize=(8, 5))\n",
    "\n",
    "for df, legend in zip(results, legends):\n",
    "    plt.scatter(df['Fragments'], df['Convexness'], s=1, label=legend)\n",
    "\n",
    "for df in results:\n",
    "    # interpolate the data\n",
    "    x = df['Fragments']\n",
    "    y = df['Convexness']\n",
    "    z = np.polyfit(x, y, 1)\n",
    "    p = np.poly1d(z)\n",
    "    plt.plot(x, p(x), '--')\n",
    "\n",
    "plt.legend(frameon=False, loc='upper center', bbox_to_anchor=(0.5, 1.15), ncol=2)\n",
    "plt.xlabel('Fragments')\n",
    "plt.ylabel('Convexness')\n",
    "# x ticks as int\n",
    "# plt.xticks(np.arange(2, 6, 1))\n",
    "plt.tight_layout()\n",
    "plt.show()"
   ],
   "metadata": {
    "collapsed": false,
    "ExecuteTime": {
     "end_time": "2024-07-20T10:19:38.001149Z",
     "start_time": "2024-07-20T10:19:37.875697Z"
    }
   },
   "id": "2b3bfa45f67016ff",
   "outputs": [
    {
     "data": {
      "text/plain": [
       "<Figure size 800x500 with 1 Axes>"
      ],
      "image/png": "[encoded data removed]"
     },
     "metadata": {},
     "output_type": "display_data"
    }
   ],
   "execution_count": 12
  },
  {
   "cell_type": "code",
   "source": [
    "# percentil 75, 50, 25\n",
    "for df in results:\n",
    "    print(df['Convexness'].quantile([0.25, 0.5, 0.75]))"
   ],
   "metadata": {
    "collapsed": false
   },
   "id": "526db6bcebab3d0d",
   "outputs": [],
   "execution_count": null
  },
  {
   "cell_type": "code",
   "source": [],
   "metadata": {
    "collapsed": false
   },
   "id": "8859e731e9b37a53",
   "outputs": [],
   "execution_count": null
  }
 ],
 "metadata": {
  "kernelspec": {
   "display_name": "Python 3",
   "language": "python",
   "name": "python3"
  },
  "language_info": {
   "codemirror_mode": {
    "name": "ipython",
    "version": 2
   },
   "file_extension": ".py",
   "mimetype": "text/x-python",
   "name": "python",
   "nbconvert_exporter": "python",
   "pygments_lexer": "ipython2",
   "version": "2.7.6"
  }
 },
 "nbformat": 4,
 "nbformat_minor": 5
}
