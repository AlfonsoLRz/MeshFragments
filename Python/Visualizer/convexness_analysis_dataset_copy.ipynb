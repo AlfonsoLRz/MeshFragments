{
 "cells": [
  {
   "cell_type": "code",
   "id": "initial_id",
   "metadata": {
    "collapsed": true,
    "ExecuteTime": {
     "end_time": "2024-09-16T17:45:53.347242600Z",
     "start_time": "2024-09-16T17:45:51.838924300Z"
    }
   },
   "source": [
    "from convexness.convexness import *\n",
    "import glob\n",
    "import os\n",
    "import open3d as o3d\n",
    "import pandas as pd\n",
    "from tqdm import tqdm"
   ],
   "outputs": [
    {
     "name": "stdout",
     "output_type": "stream",
     "text": [
      "Jupyter environment detected. Enabling Open3D WebVisualizer.\n",
      "[Open3D INFO] WebRTC GUI backend enabled.\n",
      "[Open3D INFO] WebRTCWindowSystem: HTTP handshake server disabled.\n"
     ]
    }
   ],
   "execution_count": 1
  },
  {
   "metadata": {
    "ExecuteTime": {
     "end_time": "2024-09-16T17:46:17.509736800Z",
     "start_time": "2024-09-16T17:46:17.459251800Z"
    }
   },
   "cell_type": "code",
   "source": [
    "n_random_samples = 800\n",
    "min_fragments = 3\n",
    "max_fragments = 8\n",
    "num_points = 10000"
   ],
   "id": "531f7b59f040580c",
   "outputs": [],
   "execution_count": 7
  },
  {
   "cell_type": "code",
   "source": [
    "def process_our_folder(folder):\n",
    "    target_extension = '.stl'\n",
    "    metadata_pattern = '*_mesh.txt'\n",
    "    path = folder + '*/' + metadata_pattern\n",
    "    mesh_files = glob.glob(folder + '*/' + metadata_pattern, recursive=True)\n",
    "    \n",
    "    #\n",
    "    global_df = None\n",
    "    \n",
    "    for metadata_file in mesh_files:\n",
    "        df = pd.read_csv(metadata_file, sep='\\t', header=0, index_col=False)\n",
    "        \n",
    "        # maintain only a subset of the columns\n",
    "        df = df[['Filename', 'Percentage', 'Vertices', 'Faces']]\n",
    "        if global_df is None:\n",
    "            global_df = df\n",
    "        else:\n",
    "            global_df = pd.concat([global_df, df], ignore_index=True)\n",
    "            \n",
    "    # filter files by target extension\n",
    "    global_df = global_df[global_df['Filename'].str.contains(target_extension)]\n",
    "            \n",
    "    # create a new column with the number of fragments\n",
    "    global_df['Fragments'] = global_df['Filename'].apply(lambda x: int(x.split('f_')[0].split('_')[-1]))\n",
    "    # select n random samples\n",
    "    global_df = global_df[max_fragments >= global_df['Fragments']]  \n",
    "    global_df = global_df[min_fragments <= global_df['Fragments']]\n",
    "    \n",
    "    print('Number of fragments:', global_df.shape[0])\n",
    "    \n",
    "    global_df = global_df.sample(n=n_random_samples)\n",
    "\n",
    "    # iterate to calculate the convexness\n",
    "    for index, row in tqdm(global_df.iterrows(), total=global_df.shape[0]):\n",
    "        filename = row['Filename']\n",
    "        filename = filename.replace('E:/Fragments/', 'D:/allopezr/Fragments/vessels_200_obj_ply_no_zipped/')\n",
    "        \n",
    "        mesh = trimesh.load_mesh(filename)\n",
    "        # normalize the mesh\n",
    "        mesh.vertices -= mesh.vertices.mean(axis=0)\n",
    "        mesh.vertices /= np.abs(mesh.vertices).max()\n",
    "        \n",
    "        try:\n",
    "            convexness = measure_convexness_2(mesh, num_points, 1)\n",
    "            global_df.loc[index, 'Convexness'] = convexness\n",
    "        except:\n",
    "            print('Error:', filename)\n",
    "            global_df = global_df.drop(index)\n",
    "        \n",
    "    return global_df"
   ],
   "metadata": {
    "collapsed": false,
    "ExecuteTime": {
     "end_time": "2024-09-16T17:46:17.747118300Z",
     "start_time": "2024-09-16T17:46:17.737376100Z"
    }
   },
   "id": "79d44df0bdc41b67",
   "outputs": [],
   "execution_count": 8
  },
  {
   "metadata": {
    "ExecuteTime": {
     "end_time": "2024-09-16T17:46:18.028827700Z",
     "start_time": "2024-09-16T17:46:17.997188600Z"
    }
   },
   "cell_type": "code",
   "source": [
    "def process_voronoi_folder(folder):\n",
    "    target_extension = '.obj'\n",
    "    files = glob.glob(folder + '*/*' + target_extension, recursive=True)\n",
    "    # get number of fragments as the first number in the filename before '_'\n",
    "    global_df = pd.DataFrame(columns=['Filename', 'Fragments'])\n",
    "    for file in files:\n",
    "        file_name = os.path.basename(file)\n",
    "        fragments = int(file_name.split('_')[0])\n",
    "        global_df = pd.concat([global_df, pd.DataFrame({'Filename': [file], 'Fragments': [fragments]})], ignore_index=True)\n",
    "        \n",
    "    # filter by the number of fragments\n",
    "    global_df = global_df[max_fragments >= global_df['Fragments']]\n",
    "    global_df = global_df[min_fragments <= global_df['Fragments']] \n",
    "    \n",
    "    # random sampling\n",
    "    print('Number of fragments:', global_df.shape[0])\n",
    "    random_rows = global_df.sample(n=n_random_samples)\n",
    "    for index, row in random_rows.iterrows():\n",
    "        filename = row['Filename']\n",
    "        mesh = trimesh.load_mesh(filename)\n",
    "        \n",
    "        # normalize the mesh\n",
    "        mesh.vertices -= mesh.vertices.mean(axis=0)\n",
    "        mesh.vertices /= np.abs(mesh.vertices).max()\n",
    "        \n",
    "        try:\n",
    "            convexness = measure_convexness_2(mesh, num_points, 1)\n",
    "            global_df.loc[index, 'Convexness'] = convexness\n",
    "        except:\n",
    "            print('Error:', filename)\n",
    "            global_df = global_df.drop(index)\n",
    "        \n",
    "    # remove rows with NaN values\n",
    "    global_df = global_df.dropna()\n",
    "    \n",
    "    return global_df"
   ],
   "id": "c6fc2859a0908f3a",
   "outputs": [],
   "execution_count": 9
  },
  {
   "cell_type": "code",
   "execution_count": 10,
   "outputs": [],
   "source": [
    "def process_sellan_folder(folder):\n",
    "    # find subfolders\n",
    "    subfolders = glob.glob(folder + '*/*/')\n",
    "    global_df = pd.DataFrame(columns=['Filename', 'Fragments'])\n",
    "    \n",
    "    for subfolder in subfolders:\n",
    "        # find obj inside the subfolder\n",
    "        files = glob.glob(subfolder + '*.obj')\n",
    "        n_fragments = len(files)\n",
    "        \n",
    "        if min_fragments<= n_fragments <= max_fragments:          \n",
    "            for file in files:\n",
    "                global_df = pd.concat([global_df, pd.DataFrame({'Filename': [file], 'Fragments': [n_fragments]})], ignore_index=True)\n",
    "            \n",
    "    print('Number of fragments:', global_df.shape[0])\n",
    "            \n",
    "    # read the mesh\n",
    "    random_rows = global_df.sample(n=n_random_samples)\n",
    "    for index, row in random_rows.iterrows():\n",
    "        filename = row['Filename']\n",
    "        mesh = trimesh.load_mesh(filename)\n",
    "        # normalize the mesh\n",
    "        mesh.vertices -= mesh.vertices.mean(axis=0)\n",
    "        mesh.vertices /= np.abs(mesh.vertices).max()\n",
    "        \n",
    "        try:\n",
    "            convexness = measure_convexness_2(mesh, num_points, 1)\n",
    "            global_df.loc[index, 'Convexness'] = convexness\n",
    "        except:\n",
    "            print('Error:', filename)\n",
    "            global_df = global_df.drop(index)\n",
    "        \n",
    "    # remove rows with NaN values\n",
    "    global_df = global_df.dropna()\n",
    "    \n",
    "    return global_df"
   ],
   "metadata": {
    "collapsed": false,
    "ExecuteTime": {
     "end_time": "2024-09-16T17:46:18.533362600Z",
     "start_time": "2024-09-16T17:46:18.523030300Z"
    }
   },
   "id": "66fdae2ec2e0e673"
  },
  {
   "cell_type": "code",
   "source": [
    "#folders = ['D:/allopezr/Fragments/Vessels_200_Voronoi/', 'D:/allopezr/Fragments/vessels_200_obj_ply_no_zipped/vessels_200_obj_ply/']\n",
    "\n",
    "folders = ['D:/allopezr/Fragments/Artifacts_200_CellFracture/', 'D:/allopezr/Fragments/Artifacts_200_ours_stl/', 'D:/allopezr/Datasets/BreakingBad/artifact/']\n",
    "\n",
    "#folders = ['D:/allopezr/Datasets/BreakingBad/artifact_compressed/']\n",
    "results = []\n",
    "\n",
    "for folder in tqdm(folders):\n",
    "    print(folder)\n",
    "    \n",
    "    if 'CellFracture' in folder:\n",
    "        global_df = process_voronoi_folder(folder)\n",
    "    elif 'BreakingBad' in folder:\n",
    "        global_df = process_sellan_folder(folder)\n",
    "    else:\n",
    "        global_df = process_our_folder(folder) \n",
    "        \n",
    "    results.append(global_df[['Fragments', 'Convexness']])"
   ],
   "metadata": {
    "collapsed": false,
    "is_executing": true,
    "ExecuteTime": {
     "start_time": "2024-09-16T17:46:18.841442300Z"
    }
   },
   "id": "643b87a409524655",
   "outputs": [
    {
     "name": "stderr",
     "output_type": "stream",
     "text": [
      "  0%|          | 0/3 [00:00<?, ?it/s]"
     ]
    },
    {
     "name": "stdout",
     "output_type": "stream",
     "text": [
      "D:/allopezr/Fragments/Artifacts_200_CellFracture/\n",
      "Number of fragments: 812\n"
     ]
    }
   ],
   "execution_count": null
  },
  {
   "cell_type": "code",
   "source": [
    "results_copy = results.copy()"
   ],
   "metadata": {
    "collapsed": false,
    "ExecuteTime": {
     "end_time": "2024-09-16T17:43:07.792076400Z",
     "start_time": "2024-09-16T17:43:07.786097100Z"
    }
   },
   "id": "e23cbb68e9727036",
   "outputs": [],
   "execution_count": 7
  },
  {
   "cell_type": "code",
   "execution_count": null,
   "outputs": [],
   "source": [
    "# calculate only for sellan\n",
    "global_df = process_sellan_folder('D:/allopezr/Datasets/BreakingBad/artifact/')"
   ],
   "metadata": {
    "collapsed": false
   },
   "id": "377268f695344b03"
  },
  {
   "cell_type": "code",
   "execution_count": null,
   "outputs": [],
   "source": [
    "# substitute this result with the previous one\n",
    "results[2] = global_df[['Fragments', 'Convexness']]"
   ],
   "metadata": {
    "collapsed": false
   },
   "id": "be2eced983dc6f62"
  },
  {
   "cell_type": "code",
   "source": [
    "import matplotlib.pyplot as plt\n",
    "\n",
    "# Change matplotlib style\n",
    "plt.style.use('default')\n",
    "\n",
    "font_mapping = {'family': 'Adobe Devanagari', 'weight': 'normal', 'size': 19}\n",
    "plt.rc('font', **font_mapping)"
   ],
   "metadata": {
    "collapsed": false,
    "ExecuteTime": {
     "end_time": "2024-09-16T17:43:07.825636300Z",
     "start_time": "2024-09-16T17:43:07.793077900Z"
    }
   },
   "id": "27bec2c82bb3610e",
   "outputs": [],
   "execution_count": 8
  },
  {
   "cell_type": "code",
   "source": [
    "# render the results\n",
    "import matplotlib.pyplot as plt\n",
    "\n",
    "legends = ['Voronoi', 'Our work', 'Sellán et al.']\n",
    "\n",
    "plt.figure(figsize=(8, 5))\n",
    "\n",
    "# average convexness per number of fragments\n",
    "for idx, (df, legend) in enumerate(zip(results, legends)):  \n",
    "    df = df.dropna()\n",
    "    mean = df.groupby('Fragments').mean()\n",
    "    std = df.groupby('Fragments').std()  \n",
    "    \n",
    "    # box plot\n",
    "    plt.errorbar(mean.index, mean['Convexness'], yerr=std['Convexness'], fmt='o-', label=legend, capsize=10)\n",
    "    \n",
    "plt.legend(frameon=False, loc='upper center', bbox_to_anchor=(0.5, 1.2), ncol=3)\n",
    "plt.xlabel('Fragments')\n",
    "plt.ylabel('Convexness')\n",
    "plt.xlim(3 - 0.14, max_fragments + 0.14)\n",
    "plt.ylim(.0, 1.0)\n",
    "plt.tight_layout()\n",
    "plt.savefig('convexness.png', dpi=300)\n",
    "plt.show()"
   ],
   "metadata": {
    "collapsed": false,
    "ExecuteTime": {
     "end_time": "2024-09-16T17:43:08.382576400Z",
     "start_time": "2024-09-16T17:43:07.804638500Z"
    }
   },
   "id": "2b3bfa45f67016ff",
   "outputs": [
    {
     "data": {
      "text/plain": "<Figure size 800x500 with 1 Axes>",
      "image/png": "[encoded data removed]"
     },
     "metadata": {},
     "output_type": "display_data"
    }
   ],
   "execution_count": 9
  },
  {
   "cell_type": "code",
   "source": [
    "# percentil 75, 50, 25\n",
    "for df in results:\n",
    "    print(df['Convexness'].quantile([0.25, 0.5, 0.75]))"
   ],
   "metadata": {
    "collapsed": false
   },
   "id": "526db6bcebab3d0d",
   "outputs": [],
   "execution_count": null
  },
  {
   "cell_type": "code",
   "source": [],
   "metadata": {
    "collapsed": false
   },
   "id": "8859e731e9b37a53",
   "outputs": [],
   "execution_count": null
  }
 ],
 "metadata": {
  "kernelspec": {
   "display_name": "Python 3",
   "language": "python",
   "name": "python3"
  },
  "language_info": {
   "codemirror_mode": {
    "name": "ipython",
    "version": 2
   },
   "file_extension": ".py",
   "mimetype": "text/x-python",
   "name": "python",
   "nbconvert_exporter": "python",
   "pygments_lexer": "ipython2",
   "version": "2.7.6"
  }
 },
 "nbformat": 4,
 "nbformat_minor": 5
}
