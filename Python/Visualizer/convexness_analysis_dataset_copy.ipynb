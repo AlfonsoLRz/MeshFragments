{
 "cells": [
  {
   "cell_type": "code",
   "id": "initial_id",
   "metadata": {
    "collapsed": true,
    "ExecuteTime": {
     "end_time": "2024-09-19T19:34:09.836635300Z",
     "start_time": "2024-09-19T19:34:09.827726Z"
    }
   },
   "source": [
    "from convexness.convexness import *\n",
    "import glob\n",
    "import os\n",
    "import open3d as o3d\n",
    "import pandas as pd\n",
    "from tqdm import tqdm"
   ],
   "outputs": [],
   "execution_count": 77
  },
  {
   "metadata": {
    "ExecuteTime": {
     "end_time": "2024-09-19T19:37:42.452337800Z",
     "start_time": "2024-09-19T19:37:42.389209200Z"
    }
   },
   "cell_type": "code",
   "source": [
    "n_random_samples = 800\n",
    "min_fragments = 3\n",
    "max_fragments = 8\n",
    "num_points = 100000"
   ],
   "id": "531f7b59f040580c",
   "outputs": [],
   "execution_count": 93
  },
  {
   "cell_type": "code",
   "source": [
    "def process_our_folder(folder, dataset_index):\n",
    "    target_extension = '.stl'\n",
    "    metadata_pattern = '*_mesh.txt'\n",
    "    path = folder + '*/' + metadata_pattern\n",
    "    mesh_files = glob.glob(folder + '*/' + metadata_pattern, recursive=True)\n",
    "    \n",
    "    #\n",
    "    global_df = None\n",
    "    \n",
    "    for metadata_file in mesh_files:\n",
    "        df = pd.read_csv(metadata_file, sep='\\t', header=0, index_col=False)\n",
    "        \n",
    "        # maintain only a subset of the columns\n",
    "        df = df[['Filename', 'Percentage', 'Vertices', 'Faces']]\n",
    "        if global_df is None:\n",
    "            global_df = df\n",
    "        else:\n",
    "            global_df = pd.concat([global_df, df], ignore_index=True)\n",
    "            \n",
    "    # filter files by target extension\n",
    "    global_df = global_df[global_df['Filename'].str.contains(target_extension)]\n",
    "            \n",
    "    # create a new column with the number of fragments\n",
    "    global_df['Fragments'] = global_df['Filename'].apply(lambda x: int(x.split('f_')[0].split('_')[-1]))\n",
    "    # select n random samples\n",
    "    global_df = global_df[max_fragments >= global_df['Fragments']]  \n",
    "    global_df = global_df[min_fragments <= global_df['Fragments']]\n",
    "    \n",
    "    print('Number of fragments:', global_df.shape[0])\n",
    "    \n",
    "    global_df = global_df.sample(n=n_random_samples)\n",
    "\n",
    "    # iterate to calculate the convexness\n",
    "    for index, row in tqdm(global_df.iterrows(), total=global_df.shape[0]):\n",
    "        filename = row['Filename']\n",
    "        filename = filename.replace('E:/Fragments/', 'D:/allopezr/Fragments/Artifacts_200_ours_stl/')\n",
    "        if dataset_index == 1:\n",
    "            filename = filename.replace('C:/Github/MeshFragments/MeshFragments/Assets/Models/Artifacts/Fragments/', 'D:/allopezr/Fragments/Artifacts_200_ours_stl_2/')\n",
    "        elif dataset_index == 2:\n",
    "            filename = filename.replace('C:/Github/MeshFragments/MeshFragments/Assets/Models/Artifacts/Fragments/', 'D:/allopezr/Fragments/Artifacts_200_ours_stl_3/')\n",
    "        \n",
    "        mesh = trimesh.load_mesh(filename)\n",
    "        # normalize the mesh\n",
    "        mesh.vertices -= mesh.vertices.mean(axis=0)\n",
    "        mesh.vertices /= np.abs(mesh.vertices).max()\n",
    "        \n",
    "        try:\n",
    "            convexness = measure_convexness_2(mesh, num_points, 1)\n",
    "            global_df.loc[index, 'Convexness'] = convexness\n",
    "        except:\n",
    "            print('Error:', filename)\n",
    "            global_df = global_df.drop(index)\n",
    "        \n",
    "    return global_df"
   ],
   "metadata": {
    "collapsed": false,
    "ExecuteTime": {
     "end_time": "2024-09-19T19:37:43.472018100Z",
     "start_time": "2024-09-19T19:37:43.464973100Z"
    }
   },
   "id": "79d44df0bdc41b67",
   "outputs": [],
   "execution_count": 94
  },
  {
   "metadata": {
    "ExecuteTime": {
     "end_time": "2024-09-19T19:37:43.859171400Z",
     "start_time": "2024-09-19T19:37:43.840255600Z"
    }
   },
   "cell_type": "code",
   "source": [
    "def process_voronoi_folder(folder):\n",
    "    target_extension = '.obj'\n",
    "    files = glob.glob(folder + '*/*' + target_extension, recursive=True)\n",
    "    # get number of fragments as the first number in the filename before '_'\n",
    "    global_df = pd.DataFrame(columns=['Filename', 'Fragments'])\n",
    "    for file in files:\n",
    "        file_name = os.path.basename(file)\n",
    "        fragments = int(file_name.split('_')[0])\n",
    "        global_df = pd.concat([global_df, pd.DataFrame({'Filename': [file], 'Fragments': [fragments]})], ignore_index=True)\n",
    "        \n",
    "    # filter by the number of fragments\n",
    "    global_df = global_df[max_fragments >= global_df['Fragments']]\n",
    "    global_df = global_df[min_fragments <= global_df['Fragments']] \n",
    "    \n",
    "    # random sampling\n",
    "    print('Number of fragments:', global_df.shape[0])\n",
    "    random_rows = global_df.sample(n=n_random_samples)\n",
    "    for index, row in tqdm(random_rows.iterrows()):\n",
    "        filename = row['Filename']\n",
    "        mesh = trimesh.load_mesh(filename)\n",
    "        \n",
    "        # normalize the mesh\n",
    "        mesh.vertices -= mesh.vertices.mean(axis=0)\n",
    "        mesh.vertices /= np.abs(mesh.vertices).max()\n",
    "        \n",
    "        try:\n",
    "            convexness = measure_convexness_2(mesh, num_points, 1)\n",
    "            global_df.loc[index, 'Convexness'] = convexness\n",
    "        except:\n",
    "            print('Error:', filename)\n",
    "            global_df = global_df.drop(index)\n",
    "        \n",
    "    # remove rows with NaN values\n",
    "    global_df = global_df.dropna()\n",
    "    \n",
    "    return global_df"
   ],
   "id": "c6fc2859a0908f3a",
   "outputs": [],
   "execution_count": 95
  },
  {
   "cell_type": "code",
   "execution_count": 96,
   "outputs": [],
   "source": [
    "def process_sellan_folder(folder):\n",
    "    # find subfolders\n",
    "    subfolders = glob.glob(folder + '*/*/')\n",
    "    global_df = pd.DataFrame(columns=['Filename', 'Fragments'])\n",
    "    \n",
    "    for subfolder in subfolders:\n",
    "        # find obj inside the subfolder\n",
    "        files = glob.glob(subfolder + '*.obj')\n",
    "        n_fragments = len(files)\n",
    "        \n",
    "        if min_fragments<= n_fragments <= max_fragments:          \n",
    "            for file in files:\n",
    "                global_df = pd.concat([global_df, pd.DataFrame({'Filename': [file], 'Fragments': [n_fragments]})], ignore_index=True)\n",
    "            \n",
    "    print('Number of fragments:', global_df.shape[0])\n",
    "            \n",
    "    # read the mesh\n",
    "    random_rows = global_df.sample(n=n_random_samples)\n",
    "    for index, row in tqdm(random_rows.iterrows()):\n",
    "        filename = row['Filename']\n",
    "        mesh = trimesh.load_mesh(filename)\n",
    "        # normalize the mesh\n",
    "        mesh.vertices -= mesh.vertices.mean(axis=0)\n",
    "        mesh.vertices /= np.abs(mesh.vertices).max()\n",
    "        \n",
    "        try:\n",
    "            convexness = measure_convexness_2(mesh, num_points, 1)\n",
    "            global_df.loc[index, 'Convexness'] = convexness\n",
    "        except:\n",
    "            print('Error:', filename)\n",
    "            global_df = global_df.drop(index)\n",
    "        \n",
    "    # remove rows with NaN values\n",
    "    global_df = global_df.dropna()\n",
    "    \n",
    "    return global_df"
   ],
   "metadata": {
    "collapsed": false,
    "ExecuteTime": {
     "end_time": "2024-09-19T19:37:44.072228100Z",
     "start_time": "2024-09-19T19:37:44.055315400Z"
    }
   },
   "id": "66fdae2ec2e0e673"
  },
  {
   "cell_type": "code",
   "source": [
    "#folders = ['D:/allopezr/Fragments/Vessels_200_Voronoi/', 'D:/allopezr/Fragments/vessels_200_obj_ply_no_zipped/vessels_200_obj_ply/']\n",
    "\n",
    "folders = ['D:/allopezr/Fragments/Artifacts_200_CellFracture/', 'D:/allopezr/Fragments/Artifacts_200_ours_stl/', 'D:/allopezr/Fragments/Artifacts_200_ours_stl_2/', 'D:/allopezr/Fragments/Artifacts_200_ours_stl_3/', 'D:/allopezr/Datasets/BreakingBad/artifact/']\n",
    "\n",
    "#folders = ['D:/allopezr/Datasets/BreakingBad/artifact_compressed/']\n",
    "results = []\n",
    "\n",
    "for index, folder in tqdm(enumerate(folders)):\n",
    "    print(folder)\n",
    "    \n",
    "    if 'CellFracture' in folder:\n",
    "        global_df = process_voronoi_folder(folder)\n",
    "    elif 'BreakingBad' in folder:\n",
    "        global_df = process_sellan_folder(folder)\n",
    "    else:\n",
    "        global_df = process_our_folder(folder, index - 1) \n",
    "        \n",
    "    results.append(global_df[['Fragments', 'Convexness']])"
   ],
   "metadata": {
    "collapsed": false,
    "is_executing": true,
    "ExecuteTime": {
     "start_time": "2024-09-19T19:37:44.487991500Z"
    }
   },
   "id": "643b87a409524655",
   "outputs": [
    {
     "name": "stderr",
     "output_type": "stream",
     "text": [
      "0it [00:00, ?it/s]"
     ]
    },
    {
     "name": "stdout",
     "output_type": "stream",
     "text": [
      "D:/allopezr/Fragments/Artifacts_200_CellFracture/\n",
      "Number of fragments: 812\n"
     ]
    },
    {
     "name": "stderr",
     "output_type": "stream",
     "text": [
      "\n",
      "0it [00:00, ?it/s]\u001B[A\n",
      "1it [00:00,  1.23it/s]\u001B[A\n",
      "2it [00:01,  1.02it/s]\u001B[A\n",
      "3it [00:03,  1.15s/it]\u001B[A\n",
      "4it [00:04,  1.01s/it]\u001B[A\n",
      "5it [00:04,  1.05it/s]\u001B[A\n",
      "6it [00:05,  1.10it/s]\u001B[A\n",
      "7it [00:07,  1.03s/it]\u001B[A\n",
      "8it [00:07,  1.01s/it]\u001B[A\n",
      "9it [00:08,  1.06it/s]\u001B[A\n",
      "10it [00:09,  1.05it/s]\u001B[A\n",
      "11it [00:10,  1.01s/it]\u001B[A\n",
      "12it [00:11,  1.02s/it]\u001B[A\n",
      "13it [00:12,  1.02s/it]\u001B[A\n",
      "14it [00:13,  1.08it/s]\u001B[A\n",
      "15it [00:14,  1.12it/s]\u001B[A\n",
      "16it [00:15,  1.10it/s]\u001B[A\n",
      "17it [00:16,  1.07it/s]\u001B[A\n",
      "18it [00:17,  1.11s/it]\u001B[A\n",
      "19it [00:18,  1.07s/it]\u001B[A\n",
      "20it [00:19,  1.06it/s]\u001B[A\n",
      "21it [00:20,  1.08it/s]\u001B[A\n",
      "22it [00:21,  1.07s/it]\u001B[A\n",
      "23it [00:22,  1.02it/s]\u001B[A\n",
      "24it [00:23,  1.04s/it]\u001B[A\n",
      "25it [00:25,  1.16s/it]\u001B[A\n",
      "26it [00:26,  1.16s/it]\u001B[A\n",
      "27it [00:27,  1.17s/it]\u001B[A\n",
      "28it [00:28,  1.15s/it]\u001B[A\n",
      "29it [00:29,  1.18s/it]\u001B[A\n",
      "30it [00:31,  1.28s/it]\u001B[A\n",
      "31it [00:32,  1.25s/it]\u001B[A\n",
      "32it [00:33,  1.18s/it]\u001B[A\n",
      "33it [00:34,  1.09s/it]\u001B[AC:\\Users\\allopezr\\.conda\\envs\\Visualizer\\lib\\site-packages\\trimesh\\caching.py:316: RuntimeWarning: invalid value encountered in divide\n",
      "  return super(self.__class__, self).__itruediv__(\n"
     ]
    },
    {
     "name": "stdout",
     "output_type": "stream",
     "text": [
      "Error: D:/allopezr/Fragments/Artifacts_200_CellFracture\\21\\3_21.compressed_mesh_cell.003.obj\n"
     ]
    },
    {
     "name": "stderr",
     "output_type": "stream",
     "text": [
      "\n",
      "35it [00:35,  1.26it/s]\u001B[A\n",
      "36it [00:36,  1.19it/s]\u001B[A\n",
      "37it [00:37,  1.14it/s]\u001B[A\n",
      "38it [00:38,  1.12it/s]\u001B[A\n",
      "39it [00:39,  1.12it/s]\u001B[A\n",
      "40it [00:40,  1.11it/s]\u001B[A\n",
      "41it [00:41,  1.10it/s]\u001B[A\n",
      "42it [00:41,  1.09it/s]\u001B[A\n",
      "43it [00:42,  1.17it/s]\u001B[A\n",
      "44it [00:43,  1.17it/s]\u001B[A\n",
      "45it [00:44,  1.02s/it]\u001B[A\n",
      "46it [00:45,  1.02s/it]\u001B[A\n",
      "47it [00:46,  1.00it/s]\u001B[A\n",
      "48it [00:47,  1.02s/it]\u001B[A\n",
      "49it [00:49,  1.06s/it]\u001B[A\n",
      "50it [00:50,  1.00it/s]\u001B[A\n",
      "51it [00:50,  1.03it/s]\u001B[A\n",
      "52it [00:51,  1.00s/it]\u001B[A\n",
      "53it [00:53,  1.09s/it]\u001B[A\n",
      "54it [00:54,  1.14s/it]\u001B[A\n",
      "55it [00:55,  1.15s/it]\u001B[A\n",
      "56it [00:56,  1.15s/it]\u001B[A\n",
      "57it [00:57,  1.08s/it]\u001B[A\n",
      "58it [00:58,  1.08s/it]\u001B[A\n",
      "59it [00:59,  1.01it/s]\u001B[A"
     ]
    }
   ],
   "execution_count": null
  },
  {
   "cell_type": "code",
   "source": [
    "results_copy = results.copy()"
   ],
   "metadata": {
    "collapsed": false,
    "is_executing": true
   },
   "id": "e23cbb68e9727036",
   "outputs": [],
   "execution_count": null
  },
  {
   "cell_type": "code",
   "execution_count": null,
   "outputs": [],
   "source": [
    "# calculate only for sellan\n",
    "global_df = process_sellan_folder('D:/allopezr/Datasets/BreakingBad/artifact/')"
   ],
   "metadata": {
    "collapsed": false
   },
   "id": "377268f695344b03"
  },
  {
   "cell_type": "code",
   "execution_count": null,
   "outputs": [],
   "source": [
    "# substitute this result with the previous one\n",
    "results[2] = global_df[['Fragments', 'Convexness']]"
   ],
   "metadata": {
    "collapsed": false
   },
   "id": "be2eced983dc6f62"
  },
  {
   "cell_type": "code",
   "source": [
    "import matplotlib.pyplot as plt\n",
    "\n",
    "# Change matplotlib style\n",
    "plt.style.use('default')\n",
    "\n",
    "font_mapping = {'family': 'Adobe Devanagari', 'weight': 'normal', 'size': 19}\n",
    "plt.rc('font', **font_mapping)"
   ],
   "metadata": {
    "collapsed": false,
    "is_executing": true
   },
   "id": "27bec2c82bb3610e",
   "outputs": [],
   "execution_count": null
  },
  {
   "cell_type": "code",
   "source": [
    "# render the results\n",
    "import matplotlib.pyplot as plt\n",
    "\n",
    "legends = ['Voronoi', 'Our work (x2 extra seeds)', 'Ours (x1 extra seeds)', 'Ours (no extra seeds)', 'Sellán et al.']\n",
    "\n",
    "plt.figure(figsize=(8, 5))\n",
    "\n",
    "# average convexness per number of fragments\n",
    "for idx, (df, legend) in enumerate(zip(results, legends)):  \n",
    "    df = df.dropna()\n",
    "    mean = 1.0 - df.groupby('Fragments').mean()\n",
    "    std = df.groupby('Fragments').std()  \n",
    "    \n",
    "    print(std)\n",
    "    \n",
    "    # box plot\n",
    "    plt.errorbar(mean.index, mean['Convexness'], yerr=std['Convexness'], fmt='o-', label=legend, capsize=10)\n",
    "    \n",
    "    # represent as points whose size is proportional to std\n",
    "    #plt.scatter(mean.index, mean['Convexness'], s=std['Convexness'] * 1000, label=legend)\n",
    "    \n",
    "plt.legend(frameon=False, loc='upper center', bbox_to_anchor=(0.5, 1.27), ncol=3, fontsize=14)\n",
    "plt.xlabel('Fragments')\n",
    "plt.ylabel('Convexity')\n",
    "plt.xlim(3 - 0.14, max_fragments + 0.14)\n",
    "plt.tight_layout()\n",
    "plt.savefig('convexness.png', dpi=300)\n",
    "plt.show()"
   ],
   "metadata": {
    "collapsed": false,
    "is_executing": true
   },
   "id": "2b3bfa45f67016ff",
   "outputs": [],
   "execution_count": null
  },
  {
   "cell_type": "code",
   "source": [
    "# percentil 75, 50, 25\n",
    "for df in results:\n",
    "    print(df['Convexness'].quantile([0.25, 0.5, 0.75]))"
   ],
   "metadata": {
    "collapsed": false
   },
   "id": "526db6bcebab3d0d",
   "outputs": [],
   "execution_count": null
  },
  {
   "cell_type": "code",
   "source": [
    "# chart with error bars\n",
    "import matplotlib.pyplot as plt\n",
    "\n",
    "legends = ['Voronoi', 'Our work (x2 extra seeds)', 'Ours (x1 extra seeds)', 'Ours (no extra seeds)', 'Sellán et al.']\n",
    "\n",
    "global_mean = []\n",
    "global_std = []\n",
    "\n",
    "for idx, (df, legend) in enumerate(zip(results, legends)):  \n",
    "    df = df.dropna()\n",
    "    mean = 1.0 - df.groupby('Fragments').mean()\n",
    "    std = df.groupby('Fragments').std()  \n",
    "    \n",
    "    global_mean.append(mean)\n",
    "    global_std.append(std)\n",
    "    \n",
    "    # box plot\n",
    "    plt.errorbar(mean.index, mean['Convexness'], yerr=std['Convexness'], fmt='o-', label=legend, capsize=10)\n",
    "    \n",
    "plt.legend(frameon=False, loc='upper center', bbox_to_anchor=(0.5, 1.4), ncol=4, fontsize=14)\n",
    "plt.xlabel('Fragments')\n",
    "plt.ylabel('Convexity')\n",
    "plt.xlim(3 - 0.14, max_fragments + 0.14)\n",
    "plt.tight_layout()\n",
    "plt.savefig('convexness.png', dpi=300)\n",
    "plt.show()"
   ],
   "metadata": {
    "collapsed": false,
    "ExecuteTime": {
     "end_time": "2024-09-19T17:20:17.725552Z",
     "start_time": "2024-09-19T17:20:17.044591800Z"
    }
   },
   "id": "8859e731e9b37a53",
   "outputs": [
    {
     "data": {
      "text/plain": "<Figure size 640x480 with 1 Axes>",
      "image/png": "[encoded data removed]"
     },
     "metadata": {},
     "output_type": "display_data"
    }
   ],
   "execution_count": 71
  },
  {
   "cell_type": "code",
   "execution_count": null,
   "outputs": [],
   "source": [],
   "metadata": {
    "collapsed": false
   },
   "id": "234201cad047962f"
  }
 ],
 "metadata": {
  "kernelspec": {
   "display_name": "Python 3",
   "language": "python",
   "name": "python3"
  },
  "language_info": {
   "codemirror_mode": {
    "name": "ipython",
    "version": 2
   },
   "file_extension": ".py",
   "mimetype": "text/x-python",
   "name": "python",
   "nbconvert_exporter": "python",
   "pygments_lexer": "ipython2",
   "version": "2.7.6"
  }
 },
 "nbformat": 4,
 "nbformat_minor": 5
}
