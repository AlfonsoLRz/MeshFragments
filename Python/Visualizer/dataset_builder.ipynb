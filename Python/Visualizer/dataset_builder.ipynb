{
 "cells": [
  {
   "cell_type": "code",
   "execution_count": 2,
   "id": "initial_id",
   "metadata": {
    "collapsed": true,
    "ExecuteTime": {
     "end_time": "2024-02-29T08:15:58.314677900Z",
     "start_time": "2024-02-29T08:15:55.137160700Z"
    }
   },
   "outputs": [],
   "source": [
    "import glob\n",
    "import os\n",
    "import numpy as np\n",
    "import matplotlib.pyplot as plt\n",
    "from tqdm import tqdm"
   ]
  },
  {
   "cell_type": "code",
   "execution_count": 34,
   "outputs": [],
   "source": [
    "folder = 'E:/Fragments/Vessels_200_obj_ply/'\n",
    "look_for = '*it*.obj'\n",
    "target_folder = 'E:/Fragments/Vessels_200_train_reduced/'\n",
    "clean_target_folder = True\n",
    "max_fractures = 5\n",
    "max_models = 100\n",
    "are_models_reduced = True"
   ],
   "metadata": {
    "collapsed": false,
    "ExecuteTime": {
     "end_time": "2024-02-29T08:22:11.843899100Z",
     "start_time": "2024-02-29T08:22:11.830867300Z"
    }
   },
   "id": "8497a8faa6f99071"
  },
  {
   "cell_type": "code",
   "execution_count": 4,
   "outputs": [],
   "source": [
    "files = glob.glob(folder + '*/' + look_for)"
   ],
   "metadata": {
    "collapsed": false,
    "ExecuteTime": {
     "end_time": "2024-02-29T08:16:49.132037400Z",
     "start_time": "2024-02-29T08:15:59.420395800Z"
    }
   },
   "id": "19745f1e1c5ffaf1"
  },
  {
   "cell_type": "code",
   "execution_count": 14,
   "outputs": [
    {
     "name": "stdout",
     "output_type": "stream",
     "text": [
      "197600\n"
     ]
    }
   ],
   "source": [
    "print(len(files))"
   ],
   "metadata": {
    "collapsed": false,
    "ExecuteTime": {
     "end_time": "2024-02-29T08:18:25.626724900Z",
     "start_time": "2024-02-29T08:18:25.607728200Z"
    }
   },
   "id": "7059f9ef808b263a"
  },
  {
   "cell_type": "code",
   "execution_count": 15,
   "outputs": [
    {
     "ename": "PermissionError",
     "evalue": "[WinError 5] Acceso denegado: 'E:/Fragments/Vessels_200_train_reduced\\\\AL_03D_10f'",
     "output_type": "error",
     "traceback": [
      "\u001B[1;31m---------------------------------------------------------------------------\u001B[0m",
      "\u001B[1;31mPermissionError\u001B[0m                           Traceback (most recent call last)",
      "Cell \u001B[1;32mIn[15], line 3\u001B[0m\n\u001B[0;32m      1\u001B[0m \u001B[38;5;28;01mif\u001B[39;00m clean_target_folder:\n\u001B[0;32m      2\u001B[0m     \u001B[38;5;28;01mfor\u001B[39;00m file \u001B[38;5;129;01min\u001B[39;00m glob\u001B[38;5;241m.\u001B[39mglob(target_folder \u001B[38;5;241m+\u001B[39m \u001B[38;5;124m'\u001B[39m\u001B[38;5;124m/*\u001B[39m\u001B[38;5;124m'\u001B[39m):\n\u001B[1;32m----> 3\u001B[0m         \u001B[43mos\u001B[49m\u001B[38;5;241;43m.\u001B[39;49m\u001B[43mremove\u001B[49m\u001B[43m(\u001B[49m\u001B[43mfile\u001B[49m\u001B[43m)\u001B[49m\n\u001B[0;32m      5\u001B[0m \u001B[38;5;28;01mif\u001B[39;00m \u001B[38;5;129;01mnot\u001B[39;00m os\u001B[38;5;241m.\u001B[39mpath\u001B[38;5;241m.\u001B[39mexists(target_folder):\n\u001B[0;32m      6\u001B[0m     os\u001B[38;5;241m.\u001B[39mmakedirs(target_folder)\n",
      "\u001B[1;31mPermissionError\u001B[0m: [WinError 5] Acceso denegado: 'E:/Fragments/Vessels_200_train_reduced\\\\AL_03D_10f'"
     ]
    }
   ],
   "source": [
    "if clean_target_folder:\n",
    "    for file in glob.glob(target_folder + '/*'):\n",
    "        os.remove(file)\n",
    "        \n",
    "if not os.path.exists(target_folder):\n",
    "    os.makedirs(target_folder)"
   ],
   "metadata": {
    "collapsed": false,
    "ExecuteTime": {
     "end_time": "2024-02-29T08:18:27.596371700Z",
     "start_time": "2024-02-29T08:18:27.549352100Z"
    }
   },
   "id": "3949caecbcdc5d75"
  },
  {
   "cell_type": "code",
   "execution_count": 35,
   "outputs": [],
   "source": [
    "dataset_dict = {}\n",
    "\n",
    "offset = 0\n",
    "if are_models_reduced:\n",
    "    offset = 1\n",
    "\n",
    "for file in files:\n",
    "    # split information from the file name\n",
    "    file_info = file.split('\\\\')[-1].split('.')[0].split('_')\n",
    "    fragment_id = file_info[-1 - offset]\n",
    "    iteration = file_info[-2 - offset].split('it')[0]\n",
    "    stitched_name = '_'.join(file_info[:-4 - offset])\n",
    "    num_fragments = int(file_info[-4 - offset].split('f')[0])\n",
    "    \n",
    "    if stitched_name not in dataset_dict:\n",
    "        dataset_dict[stitched_name] = { }\n",
    "        \n",
    "    if num_fragments not in dataset_dict[stitched_name]:\n",
    "        dataset_dict[stitched_name][num_fragments] = {}\n",
    "        \n",
    "    if iteration not in dataset_dict[stitched_name][num_fragments]:\n",
    "        dataset_dict[stitched_name][num_fragments][iteration] = []\n",
    "        \n",
    "    dataset_dict[stitched_name][num_fragments][iteration].append(file)\n",
    "    \n",
    "    # if len(dataset_dict) > max_models:\n",
    "    #     break"
   ],
   "metadata": {
    "collapsed": false,
    "ExecuteTime": {
     "end_time": "2024-02-29T08:22:15.058548Z",
     "start_time": "2024-02-29T08:22:14.125462500Z"
    }
   },
   "id": "976454971ce6baf1"
  },
  {
   "cell_type": "code",
   "execution_count": null,
   "outputs": [
    {
     "name": "stderr",
     "output_type": "stream",
     "text": [
      " 14%|█▎        | 27/200 [08:43<52:08, 18.09s/it]  "
     ]
    }
   ],
   "source": [
    "# from each object, select up to max_fractures iterations\n",
    "sum_pieces = 0\n",
    "folders = []\n",
    "\n",
    "for stitched_name in tqdm(dataset_dict):\n",
    "    folders.append(target_folder + stitched_name)\n",
    "    \n",
    "    # create the folder if it does not exist\n",
    "    if not os.path.exists(target_folder + stitched_name):\n",
    "        os.makedirs(target_folder + stitched_name)\n",
    "        \n",
    "    current_fractures = 0\n",
    "    \n",
    "    for num_fragments in dataset_dict[stitched_name]:\n",
    "        # get the number of iterations\n",
    "        iterations = list(dataset_dict[stitched_name][num_fragments].keys())\n",
    "        iterations = [int(i) for i in iterations]\n",
    "        iterations.sort()\n",
    "        iterations = [str(i) for i in iterations]\n",
    "        \n",
    "        # select the iterations\n",
    "        if len(iterations) > max_fractures:\n",
    "            iterations = np.random.choice(iterations, max_fractures, replace=False)\n",
    "            \n",
    "        for iteration in iterations:\n",
    "            sum_pieces += len(dataset_dict[stitched_name][num_fragments][iteration])\n",
    "    \n",
    "        # copy the files to the target folder\n",
    "        for iteration in iterations:\n",
    "            # create the iteration folder if it does not exist\n",
    "            if not os.path.exists(target_folder + stitched_name + '/fractured_' + str(current_fractures)):\n",
    "                os.makedirs(target_folder + stitched_name + '/fractured_' + str(current_fractures))\n",
    "\n",
    "            for file_idx, file in enumerate(dataset_dict[stitched_name][num_fragments][iteration]):\n",
    "                # copy the file to the target folder\n",
    "                file = file.replace('/', '\\\\')\n",
    "                os.system('copy ' + file + ' \"' + target_folder + stitched_name + '/fractured_' + str(current_fractures) + '/piece_' + str(file_idx) + '.obj\"')\n",
    "\n",
    "            current_fractures += 1\n",
    "    \n",
    "print(sum_pieces)"
   ],
   "metadata": {
    "collapsed": false,
    "is_executing": true,
    "ExecuteTime": {
     "start_time": "2024-02-29T08:22:15.208561500Z"
    }
   },
   "id": "56d0df0d16073eba"
  },
  {
   "cell_type": "code",
   "execution_count": 142,
   "outputs": [],
   "source": [
    "train_val_split = 0.8\n",
    "\n",
    "np.random.shuffle(folders)\n",
    "train_folders = folders[:int(len(folders) * train_val_split)]\n",
    "val_folders = folders[int(len(folders) * train_val_split):]\n",
    "\n",
    "with open(target_folder + 'artifact.train.txt', 'w') as f:\n",
    "    for folder in train_folders:\n",
    "        # folder file to local path\n",
    "        folder = 'artifact/' + folder.split('E:/Fragments/Vessels_200_train/')[-1]\n",
    "        f.write(folder + '\\n')\n",
    "        \n",
    "with open(target_folder + 'artifact.val.txt', 'w') as f:\n",
    "    for folder in val_folders:\n",
    "        # folder file to local path\n",
    "        folder = 'artifact/' + folder.split('E:/Fragments/Vessels_200_train/')[-1]\n",
    "        f.write(folder + '\\n')"
   ],
   "metadata": {
    "collapsed": false,
    "ExecuteTime": {
     "end_time": "2024-02-28T11:51:59.738972100Z",
     "start_time": "2024-02-28T11:51:59.704970900Z"
    }
   },
   "id": "c06d727a197ea73b"
  },
  {
   "cell_type": "code",
   "execution_count": null,
   "outputs": [],
   "source": [],
   "metadata": {
    "collapsed": false
   },
   "id": "98f60fd182086e1d"
  }
 ],
 "metadata": {
  "kernelspec": {
   "display_name": "Python 3",
   "language": "python",
   "name": "python3"
  },
  "language_info": {
   "codemirror_mode": {
    "name": "ipython",
    "version": 2
   },
   "file_extension": ".py",
   "mimetype": "text/x-python",
   "name": "python",
   "nbconvert_exporter": "python",
   "pygments_lexer": "ipython2",
   "version": "2.7.6"
  }
 },
 "nbformat": 4,
 "nbformat_minor": 5
}
