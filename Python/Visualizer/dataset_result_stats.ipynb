{
 "cells": [
  {
   "cell_type": "code",
   "execution_count": 3,
   "id": "initial_id",
   "metadata": {
    "collapsed": true,
    "ExecuteTime": {
     "end_time": "2024-02-24T10:00:38.022836500Z",
     "start_time": "2024-02-24T10:00:37.484305100Z"
    }
   },
   "outputs": [],
   "source": [
    "import numpy as np\n",
    "import matplotlib.pyplot as plt\n",
    "from tqdm import tqdm"
   ]
  },
  {
   "cell_type": "code",
   "execution_count": 9,
   "outputs": [],
   "source": [
    "folder = 'time_logs/'\n",
    "file = 'allopezr2024_2_18__22_56_26.txt'"
   ],
   "metadata": {
    "collapsed": false,
    "ExecuteTime": {
     "end_time": "2024-02-24T10:04:18.171224Z",
     "start_time": "2024-02-24T10:04:18.159228900Z"
    }
   },
   "id": "ea304721b6a5ca4f"
  },
  {
   "cell_type": "code",
   "execution_count": 10,
   "outputs": [],
   "source": [
    "# Change matplotlib style\n",
    "plt.style.use('default')\n",
    "\n",
    "font_mapping = {'family': 'Adobe Devanagari', 'weight': 'normal', 'size': 18}\n",
    "plt.rc('font', **font_mapping)"
   ],
   "metadata": {
    "collapsed": false,
    "ExecuteTime": {
     "end_time": "2024-02-24T10:04:18.544224600Z",
     "start_time": "2024-02-24T10:04:18.527225400Z"
    }
   },
   "id": "76243aec4d1392b5"
  },
  {
   "cell_type": "code",
   "execution_count": 37,
   "outputs": [],
   "source": [
    "class Event:\n",
    "    def __init__(self, time, event_type):\n",
    "        self.time = time / 1000\n",
    "        self.event_type = event_type\n",
    "        self.event_type = self.event_type.replace('_', ' ')\n",
    "        self.event_type = self.event_type[0].upper() + self.event_type[1:].lower()\n",
    "        \n",
    "class ResourceUsage:\n",
    "    def __init__(self, cpu, cpu_total, memory, memory_total, virtual_memory=.0, virtual_memory_total=.0, gpu=.0, gpu_total=.0):\n",
    "        self.cpu = cpu\n",
    "        self.cpu_total = cpu_total\n",
    "        self.memory = memory\n",
    "        self.memory_total = memory_total\n",
    "        self.virtual_memory = virtual_memory\n",
    "        self.virtual_memory_total = virtual_memory_total\n",
    "        self.gpu = gpu\n",
    "        self.gpu_total = gpu_total\n",
    "        \n",
    "        divisor = 1024            \n",
    "        self.memory /= divisor\n",
    "        self.memory_total /= divisor\n",
    "        self.virtual_memory /= divisor\n",
    "        self.virtual_memory_total /= divisor\n",
    "        self.gpu /= divisor\n",
    "        self.gpu_total /= divisor"
   ],
   "metadata": {
    "collapsed": false,
    "ExecuteTime": {
     "end_time": "2024-02-24T10:26:17.195991100Z",
     "start_time": "2024-02-24T10:26:17.184991500Z"
    }
   },
   "id": "b39423d9e7c9c741"
  },
  {
   "cell_type": "code",
   "execution_count": 46,
   "outputs": [],
   "source": [
    "events = []\n",
    "resource_usage = []\n",
    "file_root = []\n",
    "\n",
    "overall_num_fragments = 0\n",
    "num_fragments = [0 for _ in range(11)]\n",
    "\n",
    "with open(folder + file, 'r') as f:\n",
    "    lines = f.readlines()\n",
    "    \n",
    "    for line in lines:\n",
    "        if '*' in line:\n",
    "            time = float(line.split(':')[1].split(' ')[1])\n",
    "            event_type = line.split(':')[0].split('*')[1]\n",
    "            event_type = event_type.strip()\n",
    "            events.append(Event(time, event_type))\n",
    "        elif '-' in line:\n",
    "            file_path = line.split('-')[1].strip().split('/')[-1]\n",
    "            file_root.append(file_path)\n",
    "            metadata = file_path.split('_')\n",
    "            it = int(metadata[-1].split('i')[0])\n",
    "            f = int(metadata[-3].split('f')[0])\n",
    "\n",
    "            overall_num_fragments += f\n",
    "            num_fragments[f] += f\n",
    "        else:\n",
    "            resources = line.split(' ')\n",
    "            if len(resources) == 9:\n",
    "                cpu = float(resources[0])\n",
    "                cpu_total = float(resources[1])\n",
    "                memory = float(resources[2])\n",
    "                memory_total = float(resources[3])\n",
    "                virtual_memory = float(resources[4])\n",
    "                virtual_memory_total = float(resources[5])\n",
    "                gpu = float(resources[6])\n",
    "                gpu_total = float(resources[7])\n",
    "                resource_usage.append(ResourceUsage(cpu, cpu_total, memory, memory_total, virtual_memory, virtual_memory_total, gpu, gpu_total))"
   ],
   "metadata": {
    "collapsed": false,
    "ExecuteTime": {
     "end_time": "2024-02-24T10:27:42.014722800Z",
     "start_time": "2024-02-24T10:27:39.615335900Z"
    }
   },
   "id": "ca758a46e8e2ab96"
  },
  {
   "cell_type": "code",
   "execution_count": 47,
   "outputs": [
    {
     "data": {
      "text/plain": "[0, 0, 52600, 72588, 92576, 110460, 126240, 132552, 143072, 151488, 157800]"
     },
     "execution_count": 47,
     "metadata": {},
     "output_type": "execute_result"
    }
   ],
   "source": [
    "num_fragments"
   ],
   "metadata": {
    "collapsed": false,
    "ExecuteTime": {
     "end_time": "2024-02-24T10:27:42.286613500Z",
     "start_time": "2024-02-24T10:27:42.234632800Z"
    }
   },
   "id": "e9aa85b8c505249e"
  },
  {
   "cell_type": "code",
   "execution_count": 48,
   "outputs": [
    {
     "data": {
      "text/plain": "1039376"
     },
     "execution_count": 48,
     "metadata": {},
     "output_type": "execute_result"
    }
   ],
   "source": [
    "overall_num_fragments"
   ],
   "metadata": {
    "collapsed": false,
    "ExecuteTime": {
     "end_time": "2024-02-24T10:27:42.692825Z",
     "start_time": "2024-02-24T10:27:42.680826500Z"
    }
   },
   "id": "cbaba3f724d4eacd"
  },
  {
   "cell_type": "code",
   "execution_count": 54,
   "outputs": [
    {
     "name": "stdout",
     "output_type": "stream",
     "text": [
      "562821\n",
      "3.100166826352204\n",
      "3.8803766018519834\n"
     ]
    }
   ],
   "source": [
    "overall_time = 0\n",
    "print(len(events))\n",
    "for i in range(0, len(events)):\n",
    "    overall_time += events[i].time\n",
    "    \n",
    "overall_time *= 0.8\n",
    "    \n",
    "print(overall_num_fragments / overall_time)\n",
    "print(overall_time / 60 / 60 / 24)"
   ],
   "metadata": {
    "collapsed": false,
    "ExecuteTime": {
     "end_time": "2024-02-24T10:38:24.707603500Z",
     "start_time": "2024-02-24T10:38:24.661085300Z"
    }
   },
   "id": "57d9b4fd94d2c6e"
  },
  {
   "cell_type": "code",
   "execution_count": null,
   "outputs": [],
   "source": [],
   "metadata": {
    "collapsed": false
   },
   "id": "7a4577d7b48238e"
  }
 ],
 "metadata": {
  "kernelspec": {
   "display_name": "Python 3",
   "language": "python",
   "name": "python3"
  },
  "language_info": {
   "codemirror_mode": {
    "name": "ipython",
    "version": 2
   },
   "file_extension": ".py",
   "mimetype": "text/x-python",
   "name": "python",
   "nbconvert_exporter": "python",
   "pygments_lexer": "ipython2",
   "version": "2.7.6"
  }
 },
 "nbformat": 4,
 "nbformat_minor": 5
}
