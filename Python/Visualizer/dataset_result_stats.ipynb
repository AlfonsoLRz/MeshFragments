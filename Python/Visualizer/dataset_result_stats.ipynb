{
 "cells": [
  {
   "cell_type": "code",
   "execution_count": 1,
   "id": "initial_id",
   "metadata": {
    "collapsed": true,
    "ExecuteTime": {
     "end_time": "2024-07-01T20:17:45.508792900Z",
     "start_time": "2024-07-01T20:17:45.493135300Z"
    }
   },
   "outputs": [],
   "source": [
    "import numpy as np\n",
    "import matplotlib.pyplot as plt\n",
    "from tqdm import tqdm"
   ]
  },
  {
   "cell_type": "code",
   "execution_count": 2,
   "outputs": [],
   "source": [
    "folder = 'time_logs/'\n",
    "file = 'allopezr_whole.txt'\n",
    "mesh_folder = 'D:/allopezr/Fragments/vessels_binary/'\n",
    "metadata_pattern = '*_mesh.txt'"
   ],
   "metadata": {
    "collapsed": false,
    "ExecuteTime": {
     "end_time": "2024-07-01T20:17:45.524507800Z",
     "start_time": "2024-07-01T20:17:45.508792900Z"
    }
   },
   "id": "ea304721b6a5ca4f"
  },
  {
   "cell_type": "code",
   "execution_count": 3,
   "outputs": [],
   "source": [
    "# Change matplotlib style\n",
    "plt.style.use('default')\n",
    "\n",
    "font_mapping = {'family': 'Adobe Devanagari', 'weight': 'normal', 'size': 20}\n",
    "plt.rc('font', **font_mapping)"
   ],
   "metadata": {
    "collapsed": false,
    "ExecuteTime": {
     "end_time": "2024-07-01T20:17:45.540551600Z",
     "start_time": "2024-07-01T20:17:45.534528800Z"
    }
   },
   "id": "76243aec4d1392b5"
  },
  {
   "cell_type": "code",
   "execution_count": 4,
   "outputs": [],
   "source": [
    "class Event:\n",
    "    def __init__(self, time, event_type):\n",
    "        self.time = time / 1000\n",
    "        self.event_type = event_type\n",
    "        self.event_type = self.event_type.replace('_', ' ')\n",
    "        self.event_type = self.event_type[0].upper() + self.event_type[1:].lower()\n",
    "        \n",
    "class ResourceUsage:\n",
    "    def __init__(self, cpu, cpu_total, memory, memory_total, virtual_memory=.0, virtual_memory_total=.0, gpu=.0, gpu_total=.0):\n",
    "        self.cpu = cpu\n",
    "        self.cpu_total = cpu_total\n",
    "        self.memory = memory\n",
    "        self.memory_total = memory_total\n",
    "        self.virtual_memory = virtual_memory\n",
    "        self.virtual_memory_total = virtual_memory_total\n",
    "        self.gpu = gpu\n",
    "        self.gpu_total = gpu_total\n",
    "        \n",
    "        divisor = 1024            \n",
    "        self.memory /= divisor\n",
    "        self.memory_total /= divisor\n",
    "        self.virtual_memory /= divisor\n",
    "        self.virtual_memory_total /= divisor\n",
    "        self.gpu /= divisor\n",
    "        self.gpu_total /= divisor"
   ],
   "metadata": {
    "collapsed": false,
    "ExecuteTime": {
     "end_time": "2024-07-01T20:17:45.556203800Z",
     "start_time": "2024-07-01T20:17:45.556203800Z"
    }
   },
   "id": "b39423d9e7c9c741"
  },
  {
   "cell_type": "code",
   "execution_count": 5,
   "outputs": [],
   "source": [
    "events = []\n",
    "resource_usage = []\n",
    "file_root = []\n",
    "\n",
    "overall_num_fragments = 0\n",
    "num_fragments = [0 for _ in range(11)]\n",
    "\n",
    "with open(folder + file, 'r') as f:\n",
    "    lines = f.readlines()\n",
    "    \n",
    "    for line in lines:\n",
    "        if '*' in line:\n",
    "            time = float(line.split(':')[1].split(' ')[1])\n",
    "            event_type = line.split(':')[0].split('*')[1]\n",
    "            event_type = event_type.strip()\n",
    "            events.append(Event(time, event_type))\n",
    "        elif '-' in line:\n",
    "            file_path = line.split('-')[1].strip().split('/')[-1]\n",
    "            file_root.append(file_path)\n",
    "            metadata = file_path.split('_')\n",
    "            it = int(metadata[-1].split('i')[0])\n",
    "            f = int(metadata[-3].split('f')[0])\n",
    "\n",
    "            overall_num_fragments += f\n",
    "            num_fragments[f] += f\n",
    "        else:\n",
    "            resources = line.split(' ')\n",
    "            if len(resources) == 9:\n",
    "                cpu = float(resources[0])\n",
    "                cpu_total = float(resources[1])\n",
    "                memory = float(resources[2])\n",
    "                memory_total = float(resources[3])\n",
    "                virtual_memory = float(resources[4])\n",
    "                virtual_memory_total = float(resources[5])\n",
    "                gpu = float(resources[6])\n",
    "                gpu_total = float(resources[7])\n",
    "                resource_usage.append(ResourceUsage(cpu, cpu_total, memory, memory_total, virtual_memory, virtual_memory_total, gpu, gpu_total))"
   ],
   "metadata": {
    "collapsed": false,
    "ExecuteTime": {
     "end_time": "2024-07-01T20:17:48.739628900Z",
     "start_time": "2024-07-01T20:17:45.556203800Z"
    }
   },
   "id": "ca758a46e8e2ab96"
  },
  {
   "cell_type": "code",
   "execution_count": 6,
   "outputs": [
    {
     "data": {
      "text/plain": "[0, 0, 52600, 72588, 92576, 110460, 126240, 132552, 143072, 151488, 157800]"
     },
     "execution_count": 6,
     "metadata": {},
     "output_type": "execute_result"
    }
   ],
   "source": [
    "num_fragments"
   ],
   "metadata": {
    "collapsed": false,
    "ExecuteTime": {
     "end_time": "2024-07-01T20:17:48.771115700Z",
     "start_time": "2024-07-01T20:17:48.755289700Z"
    }
   },
   "id": "e9aa85b8c505249e"
  },
  {
   "cell_type": "code",
   "execution_count": 7,
   "outputs": [
    {
     "data": {
      "text/plain": "1039376"
     },
     "execution_count": 7,
     "metadata": {},
     "output_type": "execute_result"
    }
   ],
   "source": [
    "overall_num_fragments"
   ],
   "metadata": {
    "collapsed": false,
    "ExecuteTime": {
     "end_time": "2024-07-01T20:17:48.833708900Z",
     "start_time": "2024-07-01T20:17:48.771115700Z"
    }
   },
   "id": "cbaba3f724d4eacd"
  },
  {
   "cell_type": "code",
   "execution_count": 8,
   "outputs": [
    {
     "name": "stdout",
     "output_type": "stream",
     "text": [
      "562821\n",
      "4.960266922163527\n",
      "2.4252353761574894\n"
     ]
    }
   ],
   "source": [
    "overall_time = 0\n",
    "print(len(events))\n",
    "for i in range(0, len(events)):\n",
    "    overall_time += events[i].time\n",
    "    \n",
    "overall_time *= 0.5\n",
    "    \n",
    "print(overall_num_fragments / overall_time)\n",
    "print(overall_time / 60 / 60 / 24)"
   ],
   "metadata": {
    "collapsed": false,
    "ExecuteTime": {
     "end_time": "2024-07-01T20:17:48.959332Z",
     "start_time": "2024-07-01T20:17:48.786721500Z"
    }
   },
   "id": "57d9b4fd94d2c6e"
  },
  {
   "cell_type": "markdown",
   "source": [
    "## Volume stats"
   ],
   "metadata": {
    "collapsed": false
   },
   "id": "3f40945d20f454ad"
  },
  {
   "cell_type": "code",
   "execution_count": 9,
   "outputs": [],
   "source": [
    "import glob, os\n",
    "import pandas as pd\n",
    "import seaborn as sns"
   ],
   "metadata": {
    "collapsed": false,
    "ExecuteTime": {
     "end_time": "2024-07-01T20:17:48.959332Z",
     "start_time": "2024-07-01T20:17:48.943674100Z"
    }
   },
   "id": "b5060cac40e4822b"
  },
  {
   "cell_type": "code",
   "execution_count": 10,
   "outputs": [
    {
     "name": "stderr",
     "output_type": "stream",
     "text": [
      "\n",
      "KeyboardInterrupt\n",
      "\n"
     ]
    }
   ],
   "source": [
    "# recursive search\n",
    "path = mesh_folder + '*/' + metadata_pattern\n",
    "mesh_files = glob.glob(mesh_folder + '*/' + metadata_pattern, recursive=True)"
   ],
   "metadata": {
    "collapsed": false,
    "ExecuteTime": {
     "end_time": "2024-07-01T20:17:51.554460800Z",
     "start_time": "2024-07-01T20:17:48.959332Z"
    }
   },
   "id": "669140aa3e3eddaf"
  },
  {
   "cell_type": "code",
   "execution_count": null,
   "outputs": [],
   "source": [
    "global_df = None\n",
    "\n",
    "for metadata_file in tqdm(mesh_files):\n",
    "    df = pd.read_csv(metadata_file, sep='\\t', header=0, index_col=False)\n",
    "    \n",
    "    # maintain only a subset of the columns\n",
    "    df = df[['Filename', 'Percentage', 'Vertices', 'Faces']]\n",
    "    if global_df is None:\n",
    "        global_df = df\n",
    "    else:\n",
    "        global_df = pd.concat([global_df, df], ignore_index=True)"
   ],
   "metadata": {
    "collapsed": false,
    "ExecuteTime": {
     "start_time": "2024-07-01T20:17:51.554460800Z"
    }
   },
   "id": "d1d694a7f0fe56e9"
  },
  {
   "cell_type": "code",
   "execution_count": null,
   "outputs": [],
   "source": [
    "# create a new column with the number of fragments\n",
    "global_df['Fragments'] = global_df['Filename'].apply(lambda x: int(x.split('f_')[0].split('_')[-1]))"
   ],
   "metadata": {
    "collapsed": false,
    "ExecuteTime": {
     "start_time": "2024-07-01T20:17:51.570250800Z"
    }
   },
   "id": "e06db8b1ab510b3f"
  },
  {
   "cell_type": "code",
   "execution_count": null,
   "outputs": [],
   "source": [
    "global_df"
   ],
   "metadata": {
    "collapsed": false,
    "ExecuteTime": {
     "start_time": "2024-07-01T20:17:51.570250800Z"
    }
   },
   "id": "83bd9e514664093e"
  },
  {
   "cell_type": "code",
   "execution_count": null,
   "outputs": [],
   "source": [
    "print(\"Average number of vertices: \", global_df['Vertices'].mean())\n",
    "print(\"Average number of faces: \", global_df['Faces'].mean())"
   ],
   "metadata": {
    "collapsed": false,
    "ExecuteTime": {
     "start_time": "2024-07-01T20:17:51.580266800Z"
    }
   },
   "id": "82d8ad7806de16e6"
  },
  {
   "cell_type": "code",
   "execution_count": null,
   "outputs": [],
   "source": [
    "# render violin plot for the number of vertices, one per number of fragments\n",
    "fig, ax = plt.subplots(figsize=(10, 5))\n",
    "ax = sns.violinplot(x='Fragments', y='Faces', data=global_df, ax=ax)\n",
    "plt.tight_layout()\n",
    "plt.savefig('faces_violin.png', dpi=500)\n",
    "plt.show()\n",
    "\n",
    "# idem for vertices\n",
    "fig, ax = plt.subplots(figsize=(10, 5))\n",
    "ax = sns.violinplot(x='Fragments', y='Vertices', data=global_df, ax=ax)\n",
    "plt.tight_layout()\n",
    "plt.savefig('vertices_violin.png', dpi=500)\n",
    "plt.show()\n",
    "\n",
    "# idem for percentage\n",
    "fig, ax = plt.subplots(figsize=(10, 5))\n",
    "ax = sns.violinplot(x='Fragments', y='Percentage', data=global_df, ax=ax)\n",
    "plt.tight_layout()\n",
    "plt.savefig('percentage_violin.png', dpi=500)\n",
    "plt.show()"
   ],
   "metadata": {
    "collapsed": false,
    "ExecuteTime": {
     "start_time": "2024-07-01T20:17:51.580266800Z"
    }
   },
   "id": "86be2104d64c1b4b"
  },
  {
   "cell_type": "markdown",
   "source": [
    "## Storage footprint"
   ],
   "metadata": {
    "collapsed": false
   },
   "id": "53a4040534ed012d"
  },
  {
   "cell_type": "code",
   "execution_count": null,
   "outputs": [],
   "source": [
    "mesh_extension = '.binm'\n",
    "point_cloud_extension = '.binp'\n",
    "voxel_extension = '.rle'"
   ],
   "metadata": {
    "collapsed": false,
    "ExecuteTime": {
     "start_time": "2024-07-01T20:17:51.585782200Z"
    }
   },
   "id": "ac3f4e873fc43dc3"
  },
  {
   "cell_type": "code",
   "execution_count": null,
   "outputs": [],
   "source": [
    "# recursive search\n",
    "mesh_files = glob.glob(mesh_folder + '**/*' + mesh_extension + '*', recursive=True)\n",
    "pc_files = glob.glob(mesh_folder + '**/*' + point_cloud_extension + '*', recursive=True)\n",
    "voxel_files = glob.glob(mesh_folder + '**/*' + voxel_extension + '*', recursive=True)"
   ],
   "metadata": {
    "collapsed": false,
    "ExecuteTime": {
     "start_time": "2024-07-01T20:17:51.585782200Z"
    }
   },
   "id": "45f7f64a8cd6bbf"
  },
  {
   "cell_type": "code",
   "execution_count": null,
   "outputs": [],
   "source": [
    "len(voxel_files)"
   ],
   "metadata": {
    "collapsed": false,
    "ExecuteTime": {
     "start_time": "2024-07-01T20:17:51.585782200Z"
    }
   },
   "id": "89e1871cd3e95e40"
  },
  {
   "cell_type": "code",
   "execution_count": null,
   "outputs": [],
   "source": [
    "footprint = [ 0, 0, 0]\n",
    "divisor = 1024 * 1024 * 1024\n",
    "\n",
    "for file in tqdm(mesh_files):\n",
    "    footprint[0] += os.path.getsize(file) / divisor\n",
    "\n",
    "for file in tqdm(pc_files):\n",
    "    footprint[1] += os.path.getsize(file) / divisor\n",
    "    \n",
    "for file in tqdm(voxel_files):\n",
    "    footprint[2] += os.path.getsize(file) / divisor"
   ],
   "metadata": {
    "collapsed": false,
    "ExecuteTime": {
     "start_time": "2024-07-01T20:17:51.585782200Z"
    }
   },
   "id": "a0bda5b3a466e3d3"
  },
  {
   "cell_type": "code",
   "execution_count": null,
   "outputs": [],
   "source": [
    "footprint"
   ],
   "metadata": {
    "collapsed": false,
    "ExecuteTime": {
     "start_time": "2024-07-01T20:17:51.585782200Z"
    }
   },
   "id": "926b3f0b5b5f21a7"
  },
  {
   "cell_type": "code",
   "execution_count": null,
   "outputs": [],
   "source": [],
   "metadata": {
    "collapsed": false,
    "ExecuteTime": {
     "end_time": "2024-07-01T20:17:51.680315500Z",
     "start_time": "2024-07-01T20:17:51.585782200Z"
    }
   },
   "id": "5731f04941766166"
  }
 ],
 "metadata": {
  "kernelspec": {
   "display_name": "Python 3",
   "language": "python",
   "name": "python3"
  },
  "language_info": {
   "codemirror_mode": {
    "name": "ipython",
    "version": 2
   },
   "file_extension": ".py",
   "mimetype": "text/x-python",
   "name": "python",
   "nbconvert_exporter": "python",
   "pygments_lexer": "ipython2",
   "version": "2.7.6"
  }
 },
 "nbformat": 4,
 "nbformat_minor": 5
}
