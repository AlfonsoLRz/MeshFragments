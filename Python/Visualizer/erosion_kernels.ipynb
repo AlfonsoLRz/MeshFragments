{
 "cells": [
  {
   "cell_type": "code",
   "execution_count": 6,
   "id": "initial_id",
   "metadata": {
    "collapsed": true,
    "ExecuteTime": {
     "end_time": "2023-11-23T11:33:11.757153400Z",
     "start_time": "2023-11-23T11:33:11.729121500Z"
    }
   },
   "outputs": [],
   "source": [
    "import numpy as np\n",
    "from pyvox.models import Vox\n",
    "from pyvox.writer import VoxWriter\n",
    "\n",
    "grid_size = 11\n",
    "\n",
    "sphere = np.linalg.norm(np.mgrid[-grid_size:grid_size, -grid_size:grid_size, -grid_size:grid_size], axis=0) < grid_size / 2.0\n",
    "cube = np.ones((grid_size, grid_size, grid_size), dtype=bool)\n",
    "cross = np.zeros((grid_size, grid_size, grid_size), dtype=bool)\n",
    "cross[grid_size // 2, :, :] = True\n",
    "cross[:, grid_size // 2, :] = True\n",
    "cross[:, :, grid_size // 2] = True\n",
    "\n",
    "vox_cube = Vox.from_dense(cube)\n",
    "vox_sphere = Vox.from_dense(sphere)\n",
    "vox_cross = Vox.from_dense(cross)\n",
    "\n",
    "VoxWriter('voxel/cube.vox', vox_cube).write()\n",
    "VoxWriter('voxel/sphere.vox', vox_sphere).write()\n",
    "VoxWriter('voxel/cross.vox', vox_cross).write()"
   ]
  },
  {
   "cell_type": "code",
   "execution_count": null,
   "outputs": [],
   "source": [],
   "metadata": {
    "collapsed": false
   },
   "id": "4454695646a3bd23"
  }
 ],
 "metadata": {
  "kernelspec": {
   "display_name": "Python 3",
   "language": "python",
   "name": "python3"
  },
  "language_info": {
   "codemirror_mode": {
    "name": "ipython",
    "version": 2
   },
   "file_extension": ".py",
   "mimetype": "text/x-python",
   "name": "python",
   "nbconvert_exporter": "python",
   "pygments_lexer": "ipython2",
   "version": "2.7.6"
  }
 },
 "nbformat": 4,
 "nbformat_minor": 5
}
