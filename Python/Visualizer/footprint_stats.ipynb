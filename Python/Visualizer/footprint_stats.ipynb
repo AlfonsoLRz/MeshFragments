{
 "cells": [
  {
   "cell_type": "code",
   "execution_count": 4,
   "outputs": [],
   "source": [
    "import numpy as np\n",
    "from pathlib import Path\n",
    "import zipfile"
   ],
   "metadata": {
    "collapsed": false,
    "ExecuteTime": {
     "end_time": "2024-02-07T17:00:52.814049300Z",
     "start_time": "2024-02-07T17:00:52.802864400Z"
    }
   },
   "id": "6d81ec5ec2e6fa76"
  },
  {
   "cell_type": "code",
   "execution_count": 20,
   "id": "initial_id",
   "metadata": {
    "collapsed": true,
    "ExecuteTime": {
     "end_time": "2024-02-07T17:10:05.767935100Z",
     "start_time": "2024-02-07T17:10:05.752421Z"
    }
   },
   "outputs": [],
   "source": [
    "#resolution = [32, 64, 128, 256]\n",
    "resolution = [128]\n",
    "extensions = [['.bing', '.vox', '.rle', '.qstack'], ['.ply', '.xyz', '.binp'], ['.obj', '.stl', '.binm']]\n",
    "headers = [['Binary raw grid', 'MagicaVoxel', 'RLE', 'QuadStack'], ['PLY', 'XYZ', 'Compressed binary'], ['OBJ', 'STL', 'Binary']]"
   ]
  },
  {
   "cell_type": "code",
   "execution_count": 6,
   "outputs": [],
   "source": [
    "folder = 'D:/allopezr/Fragments/Vessels_renamed/'"
   ],
   "metadata": {
    "collapsed": false,
    "ExecuteTime": {
     "end_time": "2024-02-07T17:00:54.058001300Z",
     "start_time": "2024-02-07T17:00:54.050383300Z"
    }
   },
   "id": "de1d8fecfd34782"
  },
  {
   "cell_type": "code",
   "execution_count": 23,
   "outputs": [
    {
     "name": "stdout",
     "output_type": "stream",
     "text": [
      "Found 204 files with extension .bing\n",
      "Found 185 files with extension .vox\n",
      "Found 261 files with extension .rle\n",
      "Found 264 files with extension .qstack\n",
      "Found 1007 files with extension .ply\n",
      "Found 1185 files with extension .xyz\n",
      "Found 1344 files with extension .binp\n",
      "Found 1049 files with extension .obj\n",
      "Found 1012 files with extension .stl\n",
      "Found 1016 files with extension .binm\n",
      "[[[4.00001144 8.00119781 0.36544699 0.13029211]\n",
      "  [0.09392738 0.10389639 0.0120733         nan]\n",
      "  [0.1846837  1.04802037 0.22439834        nan]]]\n"
     ]
    },
    {
     "name": "stderr",
     "output_type": "stream",
     "text": [
      "C:\\Users\\allopezr\\AppData\\Local\\Temp\\4\\ipykernel_20196\\4220358823.py:28: RuntimeWarning: invalid value encountered in divide\n",
      "  average_footprint_compressed = footprint_compressed / count_files\n",
      "C:\\Users\\allopezr\\AppData\\Local\\Temp\\4\\ipykernel_20196\\4220358823.py:29: RuntimeWarning: invalid value encountered in divide\n",
      "  average_footprint_uncompressed = footprint_uncompressed / count_files\n"
     ]
    }
   ],
   "source": [
    "footprint_compressed = np.zeros((len(resolution), len(extensions), 4))\n",
    "footprint_uncompressed = np.zeros((len(resolution), len(extensions), 4))\n",
    "count_files = np.zeros((len(resolution), len(extensions), 4))\n",
    "\n",
    "for res_idx, res in enumerate(resolution):\n",
    "    for data_type_idx, data_type in enumerate(extensions):\n",
    "        for extension_idx, extension in enumerate(data_type):\n",
    "            # Search recursively for files with the given extension\n",
    "            files = [f for f in Path(folder).rglob('*' + str(res) + 'r*' + extension + '.zip')]\n",
    "            print(f'Found {len(files)} files with extension {extension}')\n",
    "            \n",
    "            for file in files:\n",
    "                if zipfile.is_zipfile(file):\n",
    "                    with zipfile.ZipFile(file, 'r') as zip_ref:\n",
    "                        uncompressed_size = 0\n",
    "                        for info in zip_ref.infolist():\n",
    "                            uncompressed_size += info.file_size\n",
    "                        compressed_size = file.stat().st_size\n",
    "                        \n",
    "                        footprint_compressed[res_idx, data_type_idx, extension_idx] += compressed_size\n",
    "                        footprint_uncompressed[res_idx, data_type_idx, extension_idx] += uncompressed_size\n",
    "                        count_files[res_idx, data_type_idx, extension_idx] += 1\n",
    "                        \n",
    "# From bytes to MB\n",
    "footprint_compressed /= 1024**2\n",
    "footprint_uncompressed /= 1024**2\n",
    "\n",
    "average_footprint_compressed = footprint_compressed / count_files\n",
    "average_footprint_uncompressed = footprint_uncompressed / count_files"
   ],
   "metadata": {
    "collapsed": false,
    "ExecuteTime": {
     "end_time": "2024-02-07T17:13:24.511396200Z",
     "start_time": "2024-02-07T17:13:21.700909600Z"
    }
   },
   "id": "78aba8c722ef0794"
  },
  {
   "cell_type": "code",
   "execution_count": 18,
   "outputs": [
    {
     "data": {
      "text/plain": "array([[[  1.65214062, 228.09575176,   0.9117775 ,   1.41644287],\n        [ 22.60584641,  20.25100136,   4.91166878,   0.        ],\n        [ 29.78444004,  89.72231293,  25.15251446,   0.        ]]])"
     },
     "execution_count": 18,
     "metadata": {},
     "output_type": "execute_result"
    }
   ],
   "source": [
    "footprint_compressed"
   ],
   "metadata": {
    "collapsed": false,
    "ExecuteTime": {
     "end_time": "2024-02-07T17:07:09.069601300Z",
     "start_time": "2024-02-07T17:07:09.047400100Z"
    }
   },
   "id": "756411e332a86019"
  },
  {
   "cell_type": "code",
   "execution_count": 26,
   "outputs": [],
   "source": [
    "latex_table_str = ''\n",
    "\n",
    "for data_type_idx, data_type in enumerate(headers):\n",
    "    for extension_idx, extension in enumerate(data_type):\n",
    "        latex_table_str += '\\textbf{' + headers[data_type_idx][extension_idx] + '} & '\n",
    "        \n",
    "        for res_idx, res in enumerate(resolution):\n",
    "            latex_table_str += f'{footprint_compressed[res_idx, data_type_idx, extension_idx]:.2f}MB ({footprint_uncompressed[res_idx, data_type_idx, extension_idx]:.2f}MB) & '\n",
    "            latex_table_str += f'{average_footprint_compressed[res_idx, data_type_idx, extension_idx]:.2f}MB ({average_footprint_uncompressed[res_idx, data_type_idx, extension_idx]:.2f}MB) & '\n",
    "        \n",
    "        latex_table_str = latex_table_str[:-2] + '\\\\ \\n'\n",
    "    latex_table_str = latex_table_str[:-2] + '\\\\ \\cmidrule{1-9}\\n'\n",
    "latex_table_str = latex_table_str[:-1]"
   ],
   "metadata": {
    "collapsed": false,
    "ExecuteTime": {
     "end_time": "2024-02-07T17:15:26.640666100Z",
     "start_time": "2024-02-07T17:15:26.610333700Z"
    }
   },
   "id": "62548d22ba3f302b"
  },
  {
   "cell_type": "code",
   "execution_count": 27,
   "outputs": [
    {
     "data": {
      "text/plain": "'Binary raw grid & 4.44MB (816.00MB) & 0.02MB (4.00MB) \\\\ \\nMagicaVoxel & 479.70MB (1480.22MB) & 2.59MB (8.00MB) \\\\ \\nRLE & 4.37MB (95.38MB) & 0.02MB (0.37MB) \\\\ \\nQuadStack & 7.81MB (34.40MB) & 0.03MB (0.13MB) \\\\\\\\ \\\\cmidrule{1-9}\\nPLY & 50.74MB (94.58MB) & 0.05MB (0.09MB) \\\\ \\nXYZ & 53.61MB (123.12MB) & 0.05MB (0.10MB) \\\\ \\nCompressed binary & 15.30MB (16.23MB) & 0.01MB (0.01MB) \\\\\\\\ \\\\cmidrule{1-9}\\nOBJ & 69.96MB (193.73MB) & 0.07MB (0.18MB) \\\\ \\nSTL & 200.59MB (1060.60MB) & 0.20MB (1.05MB) \\\\ \\nBinary mesh & 57.08MB (227.99MB) & 0.06MB (0.22MB) \\\\\\\\ \\\\cmidrule{1-9}'"
     },
     "execution_count": 27,
     "metadata": {},
     "output_type": "execute_result"
    }
   ],
   "source": [
    "latex_table_str"
   ],
   "metadata": {
    "collapsed": false,
    "ExecuteTime": {
     "end_time": "2024-02-07T17:15:27.155681200Z",
     "start_time": "2024-02-07T17:15:27.139719400Z"
    }
   },
   "id": "d54d63b513067f61"
  },
  {
   "cell_type": "code",
   "execution_count": null,
   "outputs": [],
   "source": [],
   "metadata": {
    "collapsed": false
   },
   "id": "13f1e38e4ac0f236"
  }
 ],
 "metadata": {
  "kernelspec": {
   "display_name": "Python 3",
   "language": "python",
   "name": "python3"
  },
  "language_info": {
   "codemirror_mode": {
    "name": "ipython",
    "version": 2
   },
   "file_extension": ".py",
   "mimetype": "text/x-python",
   "name": "python",
   "nbconvert_exporter": "python",
   "pygments_lexer": "ipython2",
   "version": "2.7.6"
  }
 },
 "nbformat": 4,
 "nbformat_minor": 5
}
