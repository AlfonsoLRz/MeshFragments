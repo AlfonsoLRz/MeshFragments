{
 "cells": [
  {
   "cell_type": "code",
   "execution_count": null,
   "outputs": [],
   "source": [
    "import numpy as np\n",
    "from pathlib import Path\n",
    "from tqdm import tqdm\n",
    "import zipfile"
   ],
   "metadata": {
    "collapsed": false
   },
   "id": "6d81ec5ec2e6fa76"
  },
  {
   "cell_type": "code",
   "execution_count": null,
   "id": "initial_id",
   "metadata": {
    "collapsed": true
   },
   "outputs": [],
   "source": [
    "#resolution = [64, 96, 128]\n",
    "resolution = [128]\n",
    "extensions = [['.bing', '.vox', '.rle', '.qstack'], ['.ply', '.xyz', '.binp'], ['.obj', '.stl', '.binm']]\n",
    "headers = [['Binary raw grid', 'MagicaVoxel', 'RLE', 'QuadStack'], ['PLY', 'XYZ', 'Compressed binary'], ['OBJ', 'STL', 'Binary']]"
   ]
  },
  {
   "cell_type": "code",
   "execution_count": null,
   "outputs": [],
   "source": [
    "folder = 'D:/allopezr/Fragments/Vessels_200/'"
   ],
   "metadata": {
    "collapsed": false
   },
   "id": "de1d8fecfd34782"
  },
  {
   "cell_type": "code",
   "execution_count": null,
   "outputs": [],
   "source": [
    "footprint_compressed = np.zeros((len(resolution), len(extensions), 4))\n",
    "footprint_uncompressed = np.zeros((len(resolution), len(extensions), 4))\n",
    "count_files = np.zeros((len(resolution), len(extensions), 4))\n",
    "\n",
    "# Mb\n",
    "unit_divisor = 1024**2\n",
    "\n",
    "for res_idx, res in enumerate(resolution):\n",
    "    for data_type_idx, data_type in enumerate(extensions):\n",
    "        for extension_idx, extension in enumerate(data_type):\n",
    "            # Search recursively for files with the given extension\n",
    "            files = [f for f in Path(folder).rglob('*' + str(res) + 'r*' + extension + '.zip')]\n",
    "            print(f'Found {len(files)} files with extension {extension}')\n",
    "            \n",
    "            for file in tqdm(files):\n",
    "                if zipfile.is_zipfile(file):\n",
    "                    with zipfile.ZipFile(file, 'r') as zip_ref:\n",
    "                        uncompressed_size = 0\n",
    "                        for info in zip_ref.infolist():\n",
    "                            uncompressed_size += info.file_size\n",
    "                        compressed_size = file.stat().st_size\n",
    "                        \n",
    "                        footprint_compressed[res_idx, data_type_idx, extension_idx] += compressed_size / unit_divisor\n",
    "                        footprint_uncompressed[res_idx, data_type_idx, extension_idx] += uncompressed_size / unit_divisor\n",
    "                        count_files[res_idx, data_type_idx, extension_idx] += 1\n",
    "\n",
    "average_footprint_compressed = footprint_compressed / count_files\n",
    "average_footprint_uncompressed = footprint_uncompressed / count_files"
   ],
   "metadata": {
    "collapsed": false
   },
   "id": "78aba8c722ef0794"
  },
  {
   "cell_type": "code",
   "execution_count": null,
   "outputs": [],
   "source": [
    "footprint_compressed"
   ],
   "metadata": {
    "collapsed": false
   },
   "id": "756411e332a86019"
  },
  {
   "cell_type": "code",
   "execution_count": null,
   "outputs": [],
   "source": [
    "latex_table_str = ''\n",
    "\n",
    "for data_type_idx, data_type in enumerate(headers):\n",
    "    for extension_idx, extension in enumerate(data_type):\n",
    "        latex_table_str += '\\textbf{' + headers[data_type_idx][extension_idx] + '} & '\n",
    "        \n",
    "        for res_idx, res in enumerate(resolution):\n",
    "            latex_table_str += f'{footprint_compressed[res_idx, data_type_idx, extension_idx]:.2f}MB ({footprint_uncompressed[res_idx, data_type_idx, extension_idx]:.2f}MB) & '\n",
    "            latex_table_str += f'{average_footprint_compressed[res_idx, data_type_idx, extension_idx]:.2f}MB ({average_footprint_uncompressed[res_idx, data_type_idx, extension_idx]:.2f}MB) & '\n",
    "        \n",
    "        latex_table_str = latex_table_str[:-2] + '\\\\ \\n'\n",
    "    latex_table_str = latex_table_str[:-2] + '\\\\ \\cmidrule{1-9}\\n'\n",
    "latex_table_str = latex_table_str[:-1]"
   ],
   "metadata": {
    "collapsed": false
   },
   "id": "62548d22ba3f302b"
  },
  {
   "cell_type": "code",
   "execution_count": null,
   "outputs": [],
   "source": [
    "import threading\n",
    "\n",
    "def calculate_footprint(files_t, footprint_compressed_t, footprint_uncompressed_t, count_files_t):\n",
    "    for file in files_t:\n",
    "        if zipfile.is_zipfile(file):\n",
    "            with zipfile.ZipFile(file, 'r') as zip_ref_t:\n",
    "                uncompressed_size = 0\n",
    "                for info in zip_ref_t.infolist():\n",
    "                    uncompressed_size += info.file_size\n",
    "                compressed_size = file.stat().st_size\n",
    "                \n",
    "                footprint_compressed[res_idx, data_type_idx, extension_idx] += compressed_size / unit_divisor\n",
    "                footprint_uncompressed[res_idx, data_type_idx, extension_idx] += uncompressed_size / unit_divisor\n",
    "                count_files[res_idx, data_type_idx, extension_idx] += 1  "
   ],
   "metadata": {
    "collapsed": false
   },
   "id": "d54d63b513067f61"
  },
  {
   "cell_type": "code",
   "execution_count": null,
   "outputs": [],
   "source": [
    "max_n_threads = threading.active_count()\n",
    "footprint_compressed = np.zeros((len(resolution), len(extensions), 4))\n",
    "footprint_uncompressed = np.zeros((len(resolution), len(extensions), 4))\n",
    "count_files = np.zeros((len(resolution), len(extensions), 4))\n",
    "\n",
    "# Mb\n",
    "unit_divisor = 1024**2\n",
    "\n",
    "for res_idx, res in enumerate(resolution):\n",
    "    for data_type_idx, data_type in enumerate(extensions):\n",
    "        for extension_idx, extension in enumerate(data_type):\n",
    "            # Search recursively for files with the given extension\n",
    "            files = [f for f in Path(folder).rglob('*' + str(res) + 'r*' + extension + '.zip')]\n",
    "            print(f'Found {len(files)} files with extension {extension}')\n",
    "            \n",
    "            # Split the files into n_threads chunks\n",
    "            n_threads = min(max_n_threads, len(files))\n",
    "            files_chunks = np.array_split(files, n_threads)\n",
    "            \n",
    "            threads = []\n",
    "            footprint_compressed_list = []\n",
    "            footprint_uncompressed_list = []\n",
    "            count_files_list = []\n",
    "            \n",
    "            print(f'Calculating footprint for {len(files)} files with {n_threads} threads')\n",
    "            for i in tqdm(range(n_threads)):\n",
    "                # Create copies of matrices\n",
    "                footprint_compressed_list.append(footprint_compressed.copy())\n",
    "                footprint_uncompressed_list.append(footprint_uncompressed.copy())\n",
    "                count_files_list.append(count_files.copy())\n",
    "                \n",
    "                threads.append(threading.Thread(target=calculate_footprint, args=(files_chunks[i], footprint_compressed_list[i], footprint_uncompressed_list[i], count_files_list[i])))\n",
    "                threads[i].start()\n",
    "                \n",
    "            print('Waiting for threads to finish')\n",
    "            for i in tqdm(range(n_threads)):\n",
    "                threads[i].join()\n",
    "                \n",
    "                # Sum the results\n",
    "                footprint_compressed += footprint_compressed_list[i]\n",
    "                footprint_uncompressed += footprint_uncompressed_list[i]\n",
    "                count_files += count_files_list[i]\n",
    "                \n",
    "average_footprint_compressed = footprint_compressed / count_files\n",
    "average_footprint_uncompressed = footprint_uncompressed / count_files"
   ],
   "metadata": {
    "collapsed": false
   },
   "id": "13f1e38e4ac0f236"
  },
  {
   "cell_type": "code",
   "execution_count": null,
   "outputs": [],
   "source": [
    "max_n_threads"
   ],
   "metadata": {
    "collapsed": false
   },
   "id": "e98af2d4445d904"
  },
  {
   "cell_type": "code",
   "execution_count": null,
   "outputs": [],
   "source": [],
   "metadata": {
    "collapsed": false
   },
   "id": "115444a30aabbe80"
  }
 ],
 "metadata": {
  "kernelspec": {
   "display_name": "Python 3",
   "language": "python",
   "name": "python3"
  },
  "language_info": {
   "codemirror_mode": {
    "name": "ipython",
    "version": 2
   },
   "file_extension": ".py",
   "mimetype": "text/x-python",
   "name": "python",
   "nbconvert_exporter": "python",
   "pygments_lexer": "ipython2",
   "version": "2.7.6"
  }
 },
 "nbformat": 4,
 "nbformat_minor": 5
}
