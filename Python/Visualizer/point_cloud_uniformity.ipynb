{
 "cells": [
  {
   "cell_type": "code",
   "execution_count": 6,
   "outputs": [],
   "source": [
    "import kdtree\n",
    "import numpy as np\n",
    "from plyfile import PlyData, PlyElement"
   ],
   "metadata": {
    "collapsed": false,
    "ExecuteTime": {
     "end_time": "2024-02-06T19:05:52.085938200Z",
     "start_time": "2024-02-06T19:05:52.052459500Z"
    }
   },
   "id": "8308b51eeb7da679"
  },
  {
   "cell_type": "code",
   "execution_count": 7,
   "id": "initial_id",
   "metadata": {
    "collapsed": true,
    "ExecuteTime": {
     "end_time": "2024-02-06T19:05:52.136943400Z",
     "start_time": "2024-02-06T19:05:52.064956800Z"
    }
   },
   "outputs": [],
   "source": [
    "folder = 'point_clouds/'\n",
    "file = 'Halton.ply'"
   ]
  },
  {
   "cell_type": "code",
   "execution_count": 8,
   "outputs": [],
   "source": [
    "point_cloud = PlyData.read(folder+file)\n",
    "points = point_cloud.elements[0].data\n",
    "points = np.array([list(point) for point in points])\n",
    "points = [(point[0], point[1], point[2]) for point in points]"
   ],
   "metadata": {
    "collapsed": false,
    "ExecuteTime": {
     "end_time": "2024-02-06T19:05:52.387196200Z",
     "start_time": "2024-02-06T19:05:52.078937600Z"
    }
   },
   "id": "6f3e25d572e03de6"
  },
  {
   "cell_type": "code",
   "execution_count": 9,
   "outputs": [],
   "source": [
    "tree = kdtree.create(points)\n",
    "min_distance = 0\n",
    "num_points = 0\n",
    "\n",
    "for point in points:\n",
    "    knn = tree.search_knn(point, 2)\n",
    "    if knn is not None:\n",
    "        min_distance += knn[1][1]\n",
    "        num_points += 1"
   ],
   "metadata": {
    "collapsed": false,
    "ExecuteTime": {
     "end_time": "2024-02-06T19:06:46.538195Z",
     "start_time": "2024-02-06T19:05:52.392191700Z"
    }
   },
   "id": "c24f23fc7c5f0103"
  },
  {
   "cell_type": "code",
   "execution_count": 10,
   "outputs": [
    {
     "name": "stdout",
     "output_type": "stream",
     "text": [
      "0.0024012593049634575\n"
     ]
    }
   ],
   "source": [
    "print(min_distance/num_points)"
   ],
   "metadata": {
    "collapsed": false,
    "ExecuteTime": {
     "end_time": "2024-02-06T19:06:46.547968400Z",
     "start_time": "2024-02-06T19:06:46.542446Z"
    }
   },
   "id": "af60fc04eefcbb3f"
  }
 ],
 "metadata": {
  "kernelspec": {
   "display_name": "Python 3",
   "language": "python",
   "name": "python3"
  },
  "language_info": {
   "codemirror_mode": {
    "name": "ipython",
    "version": 2
   },
   "file_extension": ".py",
   "mimetype": "text/x-python",
   "name": "python",
   "nbconvert_exporter": "python",
   "pygments_lexer": "ipython2",
   "version": "2.7.6"
  }
 },
 "nbformat": 4,
 "nbformat_minor": 5
}
