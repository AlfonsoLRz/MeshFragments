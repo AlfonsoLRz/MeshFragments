{
 "cells": [
  {
   "cell_type": "code",
   "execution_count": 28,
   "outputs": [],
   "source": [
    "import kdtree\n",
    "import numpy as np\n",
    "from plyfile import PlyData, PlyElement"
   ],
   "metadata": {
    "collapsed": false,
    "ExecuteTime": {
     "end_time": "2024-02-08T14:44:00.915996700Z",
     "start_time": "2024-02-08T14:44:00.899463100Z"
    }
   },
   "id": "8308b51eeb7da679"
  },
  {
   "cell_type": "code",
   "execution_count": 29,
   "id": "initial_id",
   "metadata": {
    "collapsed": true,
    "ExecuteTime": {
     "end_time": "2024-02-08T14:44:00.929001600Z",
     "start_time": "2024-02-08T14:44:00.910984900Z"
    }
   },
   "outputs": [],
   "source": [
    "folder = 'point_clouds/'\n",
    "file = 'StdUniform.ply'\n",
    "k = 10"
   ]
  },
  {
   "cell_type": "code",
   "execution_count": 30,
   "outputs": [],
   "source": [
    "point_cloud = PlyData.read(folder+file)\n",
    "points = point_cloud.elements[0].data\n",
    "points = np.array([list(point) for point in points])\n",
    "points = [(point[0], point[1], point[2]) for point in points]"
   ],
   "metadata": {
    "collapsed": false,
    "ExecuteTime": {
     "end_time": "2024-02-08T14:44:00.958340Z",
     "start_time": "2024-02-08T14:44:00.923995900Z"
    }
   },
   "id": "6f3e25d572e03de6"
  },
  {
   "cell_type": "code",
   "execution_count": 31,
   "outputs": [],
   "source": [
    "tree = kdtree.create(points)\n",
    "distance = 0\n",
    "num_points = 0\n",
    "\n",
    "for point in points:\n",
    "    knn = tree.search_knn(point, k)\n",
    "    if knn is not None:\n",
    "        local_distance = 0\n",
    "        for i in range(1, len(knn)):\n",
    "            local_distance += knn[i][1]\n",
    "        local_distance /= (k-1)\n",
    "        distance += local_distance\n",
    "        num_points += 1"
   ],
   "metadata": {
    "collapsed": false,
    "ExecuteTime": {
     "end_time": "2024-02-08T14:44:02.338785300Z",
     "start_time": "2024-02-08T14:44:01.004398400Z"
    }
   },
   "id": "c24f23fc7c5f0103"
  },
  {
   "cell_type": "code",
   "execution_count": 32,
   "outputs": [
    {
     "name": "stdout",
     "output_type": "stream",
     "text": [
      "27.774511232964198\n"
     ]
    }
   ],
   "source": [
    "print(distance/num_points)"
   ],
   "metadata": {
    "collapsed": false,
    "ExecuteTime": {
     "end_time": "2024-02-08T14:44:02.349762800Z",
     "start_time": "2024-02-08T14:44:02.341787300Z"
    }
   },
   "id": "af60fc04eefcbb3f"
  }
 ],
 "metadata": {
  "kernelspec": {
   "display_name": "Python 3",
   "language": "python",
   "name": "python3"
  },
  "language_info": {
   "codemirror_mode": {
    "name": "ipython",
    "version": 2
   },
   "file_extension": ".py",
   "mimetype": "text/x-python",
   "name": "python",
   "nbconvert_exporter": "python",
   "pygments_lexer": "ipython2",
   "version": "2.7.6"
  }
 },
 "nbformat": 4,
 "nbformat_minor": 5
}
